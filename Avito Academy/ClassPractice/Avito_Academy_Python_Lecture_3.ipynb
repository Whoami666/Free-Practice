{
  "nbformat": 4,
  "nbformat_minor": 0,
  "metadata": {
    "colab": {
      "provenance": []
    },
    "kernelspec": {
      "name": "python3",
      "display_name": "Python 3"
    },
    "language_info": {
      "name": "python"
    }
  },
  "cells": [
    {
      "cell_type": "code",
      "source": [
        "print((lambda x, y: x+y)(*{1: 'a', 2: 'b'}.items()))"
      ],
      "metadata": {
        "colab": {
          "base_uri": "https://localhost:8080/"
        },
        "id": "BZeOMoMT4FUu",
        "outputId": "c2a65a8f-1a6e-4ba2-cf0f-708a5f0520ca"
      },
      "execution_count": null,
      "outputs": [
        {
          "output_type": "stream",
          "name": "stdout",
          "text": [
            "(1, 'a', 2, 'b')\n"
          ]
        }
      ]
    },
    {
      "cell_type": "code",
      "source": [
        "class Student:\n",
        "  def __init__(self, id, name):\n",
        "    self.id = id\n",
        "    self.name = name\n",
        "  \n",
        "  def __repr__(self):\n",
        "    return f\"Student({self.id}, {self.name})\"\n",
        "\n",
        "students = [Student(1, \"Repeat\"), Student(2, \"Netter\"), Student(3, \"Edsgar\")]\n",
        "print([s.name for s in sorted(students, key=lambda s: s.name[1:3], reverse=True)])"
      ],
      "metadata": {
        "colab": {
          "base_uri": "https://localhost:8080/"
        },
        "id": "PUEq1sq16iKE",
        "outputId": "9536a83e-cd4d-4dc8-c989-b9f4b0ae4b24"
      },
      "execution_count": null,
      "outputs": [
        {
          "output_type": "stream",
          "name": "stdout",
          "text": [
            "['Netter', 'Repeat', 'Edsgar']\n"
          ]
        }
      ]
    },
    {
      "cell_type": "code",
      "execution_count": null,
      "metadata": {
        "colab": {
          "base_uri": "https://localhost:8080/"
        },
        "id": "Oe8jBs3Fepp_",
        "outputId": "6cfbb49f-70dc-4f8d-a9c3-75c876427644"
      },
      "outputs": [
        {
          "output_type": "stream",
          "name": "stdout",
          "text": [
            "8\n",
            "CacheInfo(hits=4, misses=7, maxsize=128, currsize=7)\n"
          ]
        }
      ],
      "source": [
        "\"\"\"\n",
        "  Числа Фибоначи через lru_cache\n",
        "  В чем фишка? Lru_cache сохраняет результат для всех n, то есть когда мы вызываем \n",
        "  calc_fibonachi(n-2) для n-1 и для n элемента, то функция считается только 1 раз, \n",
        "  а не 2 раза, как в lazy алгоритме\n",
        "\"\"\"\n",
        "\n",
        "from functools import lru_cache\n",
        "\n",
        "\n",
        "@lru_cache()\n",
        "def calc_fibonachi(n):\n",
        "    if n == 0 or n == 1:\n",
        "        return n\n",
        "    return calc_fibonachi(n - 1) + calc_fibonachi(n - 2)\n",
        "\n",
        "\n",
        "if __name__ == '__main__':\n",
        "    print(calc_fibonachi(6))\n",
        "    print(calc_fibonachi.cache_info())"
      ]
    },
    {
      "cell_type": "code",
      "source": [
        "class BasePokemon:\n",
        "  \"\"\"\n",
        "        класс BasePokemon\n",
        "        устанавливает атрибуты name и category\n",
        "        имеет метод __str__, выводящий строку из атрибутов name и category\n",
        "\n",
        "        base_charmander = BasePokemon(name='Charmander', category='Lizard')\n",
        "        base_charmander.to_str()\n",
        "        Out: 'Charmander/Lizard'\n",
        "\n",
        "        charmander = Pokemon\n",
        "          (\n",
        "          name='Charmander',\n",
        "          category='Lizard',\n",
        "          weaknesses=(water, ground, rock))\n",
        "\n",
        "        property weakness -> first weaknesses\n",
        "  \"\"\"\n",
        "\n",
        "  def __init__(self, name, category): #просто задаем name и category\n",
        "      self.name = name\n",
        "      self.category = category\n",
        "\n",
        "  def __str__(self):     #возвращаем name и category для покемона\n",
        "      return f'{self.name}/{self.category}'\n",
        "\n",
        "\n",
        "class Pokemon(BasePokemon):\n",
        "  def __init__(self, name, category, weaknesses):          \n",
        "      super().__init__(name, category)\n",
        "      self._weaknesses = weaknesses\n",
        "\n",
        "  @property\n",
        "  def weakness(self):\n",
        "      return self._weaknesses[0]\n",
        "\n",
        "\n",
        "if __name__ == '__main__':\n",
        "    base_charmander = BasePokemon(name='Charmander', category='Lizard')\n",
        "    print(base_charmander)\n",
        "    bulbasaur = Pokemon(\n",
        "        name='Bulbasaur',\n",
        "        category='seed',\n",
        "        weaknesses=('fire', 'psychic', 'flying', 'ice')\n",
        "    )\n",
        "    print(bulbasaur.weakness)"
      ],
      "metadata": {
        "colab": {
          "base_uri": "https://localhost:8080/"
        },
        "id": "g45g9Cqqewwy",
        "outputId": "f5175ed2-2b21-49c5-addb-05a505110c51"
      },
      "execution_count": null,
      "outputs": [
        {
          "output_type": "stream",
          "name": "stdout",
          "text": [
            "Charmander/Lizard\n",
            "fire\n"
          ]
        }
      ]
    },
    {
      "cell_type": "code",
      "source": [
        "class BasePokemon:\n",
        "    def __init__(self, name, category):\n",
        "        self.name = name\n",
        "        self.category = category\n",
        "\n",
        "    def __str__(self):\n",
        "        return f'{self.name}/{self.category}'\n",
        "\n",
        "\n",
        "class EmojiMixin:\n",
        "  \"\"\"\n",
        "    миксин EmojiMixin, который модифицирует метод __str__\n",
        "    Заменяет категорию покемона на эмоджи\n",
        "\n",
        "    grass => 🌿\n",
        "    fire => 🔥\n",
        "    water => 🌊\n",
        "    electric => ⚡\n",
        "\n",
        "    EmojiMixin внутри знает только category\n",
        "  \"\"\"\n",
        "\n",
        "  EMOJI_DICT = {'grass': '🌿', 'fire': '🔥', 'water': '🌊', 'electric': '⚡'}\n",
        "\n",
        "  def __str__(self):\n",
        "      # return f'{self.name}/{EmojiMixin.EMOJI_DICT[self.category]}'\n",
        "      s = super().__str__() #super обращается к родительскому классу\n",
        "\n",
        "      return s.replace(self.category, EmojiMixin.EMOJI_DICT[self.category]) \n",
        "\n",
        "\n",
        "class Pokemon(EmojiMixin, BasePokemon):\n",
        "    def __init__(self, name, category, weaknesses=None):\n",
        "        super().__init__(name, category) \n",
        "        self._weaknesses = weaknesses\n",
        "\n",
        "    @property\n",
        "    def weaknesses(self):\n",
        "        if self._weaknesses:\n",
        "            return self._weaknesses[0]\n",
        "        return None\n",
        "\n",
        "\n",
        "if __name__ == '__main__':\n",
        "    bulbasaur = Pokemon(\n",
        "        name='Bulbasaur',\n",
        "        category='seed',\n",
        "        weaknesses=('fire', 'psychic', 'flying', 'ice')\n",
        "    )\n",
        "    print(bulbasaur.weaknesses)\n",
        "\n",
        "    base_charmander = BasePokemon(name='Charmander', category='Lizard')\n",
        "    print(base_charmander)\n",
        "\n",
        "    pikachu = Pokemon(name='Pikachu', category='electric')\n",
        "    print(pikachu)"
      ],
      "metadata": {
        "colab": {
          "base_uri": "https://localhost:8080/"
        },
        "id": "LVfY5gRRey2J",
        "outputId": "77942985-088f-4d4d-b1da-a032c3468b22"
      },
      "execution_count": null,
      "outputs": [
        {
          "output_type": "stream",
          "name": "stdout",
          "text": [
            "fire\n",
            "Charmander/Lizard\n",
            "Pikachu/⚡\n"
          ]
        }
      ]
    },
    {
      "cell_type": "code",
      "source": [
        "# 1\n",
        "# Дана функция обучения покемона train\n",
        "# Измените класс Pokemon так, чтобы обучение проходило без ошибок\n",
        "\n",
        "# 2\n",
        "# Напишите класс Digimon так, чтобы обучение проходило без ошибок\n",
        "\n",
        "# 3\n",
        "# Напишите абстрактный класс AnimeMon:\n",
        "#   Имеет абстрактный метод inc_exp\n",
        "#   Имеет абстрактное свойство exp\n",
        "#   Классы Digimon и Pokemon наследуются от AnimeMon\n",
        "\n",
        "from abc import ABC, abstractmethod\n",
        "\n",
        "\n",
        "class PokemonTrainInterface(ABC):\n",
        "    @abstractmethod\n",
        "    def increase_experience(self, value):\n",
        "        ...\n",
        "\n",
        "    @property\n",
        "    @abstractmethod\n",
        "    def experience(self):\n",
        "        ...\n",
        "\n",
        "\n",
        "class BasePokemon(PokemonTrainInterface):\n",
        "    def __init__(self, name, category):\n",
        "        self.name = name\n",
        "        self.category = category\n",
        "        self._experience = 100\n",
        "\n",
        "    def __str__(self):\n",
        "        return f'{self.name}/{self.category}'\n",
        "\n",
        "    def increase_experience(self, value: int):\n",
        "        self._experience += value\n",
        "\n",
        "    @property\n",
        "    def experience(self):\n",
        "        return self._experience\n",
        "\n",
        "\n",
        "class Pokemon(BasePokemon):\n",
        "    def __init__(self, name, category, weaknesses=None):\n",
        "        super().__init__(name, category)\n",
        "        self._weaknesses = weaknesses\n",
        "\n",
        "    @property\n",
        "    def weaknesses(self):\n",
        "        if self._weaknesses:\n",
        "            return self._weaknesses[0]\n",
        "        return None\n",
        "\n",
        "\n",
        "if __name__ == '__main__':\n",
        "    bulbasaur = Pokemon(name='Bulbasaur', category='grass')\n",
        "    bulbasaur.increase_experience(100)\n",
        "    # print(bulbasaur.experience())"
      ],
      "metadata": {
        "id": "8at_MDwXe6hA"
      },
      "execution_count": null,
      "outputs": []
    },
    {
      "cell_type": "code",
      "source": [
        "\"\"\"\n",
        "Даны объявления в формате JSON\n",
        "title - обязательное поле\n",
        "В объявлении могут присутствовать различные поля\n",
        "Пример объявления c атрибутом 'ближайшие станции метро' (metro_stations):\n",
        "{\n",
        "\"title\": \"iPhone X\",\n",
        "\"price\": 100,\n",
        "\"location\": {\n",
        "\"address\": \"город Самара, улица Мориса Тореза, 50\",\n",
        "\"metro_stations\": [\"Спортивная\", \"Гагаринская\"]\n",
        "}\n",
        "}\n",
        "\n",
        "Напишите ĸласс Advert , ĸоторый:\n",
        "1. динамичесĸи создает атрибуты эĸземпляра ĸласса из атрибутов\n",
        "JSON-объеĸта\n",
        "○ не нужно фиĸсировать атрибуты в ĸлассе пример ниже НЕВЕРНЫЙ\n",
        "# НЕВЕРНЫЙ ПРИМЕР! Создавайте атрибуты динамически\n",
        "class Advert:\n",
        "def init (self, mapping):\n",
        "self.title = mapping['title']\n",
        "self.price = mapping['price']\n",
        "\n",
        "lesson_str = \"\"\"{\n",
        "\"title\": \"python\", \"price\": 0,\n",
        "\"location\": {\n",
        "\"address\": \"город Москва, Лесная, 7\",\n",
        "\"metro_stations\": [\"Белорусская\"]\n",
        "}\n",
        "}\"\"\"\n",
        "lesson = json.loads(lesson_str)\n",
        "lesson_ad = Advert(lesson)\n",
        "\"\"\""
      ],
      "metadata": {
        "id": "_IBwGK-1hyz_"
      },
      "execution_count": null,
      "outputs": []
    },
    {
      "cell_type": "code",
      "source": [
        "\n",
        "import re\n",
        "\n",
        "\n",
        "#res, n = re.subn('[0-9]', '', test_str)\n",
        "#json_list = list(map(lambda x: x.replace('\"', '').split(':'), lesson_str.split(',')))\n",
        "json_list = list(map(lambda x: re.subn('(\\n|\\\")', ' ', x)[0], lesson_str.split('{')))\n",
        "\n",
        "re.findall('[^:]*:[^:]*', lesson_str)\n",
        "\n"
      ],
      "metadata": {
        "colab": {
          "base_uri": "https://localhost:8080/"
        },
        "id": "ei5Nj8iYjvGX",
        "outputId": "508de7b2-7d1a-440c-8327-93e9c18f36af"
      },
      "execution_count": null,
      "outputs": [
        {
          "output_type": "execute_result",
          "data": {
            "text/plain": [
              "['{\\n\"title\": \"python\", \"price\"',\n",
              " ': 0,\\n\"location\"',\n",
              " ': {\\n\"address\"',\n",
              " ': \"город Москва, Лесная, 7\",\\n\"metro_stations\"',\n",
              " ': [\"Белорусская\"]\\n}\\n}']"
            ]
          },
          "metadata": {},
          "execution_count": 11
        }
      ]
    },
    {
      "cell_type": "code",
      "source": [
        "lesson_str =   \"\"\"{\n",
        "\"title\": \"python\", \"price\": 0,\n",
        "\"location\": {\n",
        "\"address\": \"город Москва, Лесная, 7\",\n",
        "\"metro_stations\": [\"Белорусская\"]\n",
        "}\n",
        "}\"\"\"\n",
        "location_dict = json.loads(lesson_str)\n",
        "location_dict['location']\n"
      ],
      "metadata": {
        "colab": {
          "base_uri": "https://localhost:8080/"
        },
        "id": "nIHblghPjvwi",
        "outputId": "883089db-f7a4-4ebc-eb95-fe3ba4cde20f"
      },
      "execution_count": null,
      "outputs": [
        {
          "output_type": "execute_result",
          "data": {
            "text/plain": [
              "{'address': 'город Москва, Лесная, 7', 'metro_stations': ['Белорусская']}"
            ]
          },
          "metadata": {},
          "execution_count": 3
        }
      ]
    },
    {
      "cell_type": "code",
      "source": [
        "import json\n",
        "from typing import Callable\n",
        "\n",
        "lesson_str =   \"\"\"{\n",
        "\"title\": \"python\", \"price\": 0,\n",
        "\"location\": {\n",
        "\"address\": \"город Москва, Лесная, 7\",\n",
        "\"metro_stations\": [\"Белорусская\"]\n",
        "}\n",
        "}\"\"\"\n",
        "\n",
        "\n",
        "class Advert():\n",
        "  def __init__(self, json_string):\n",
        "    advert_information = json_string #json.loads(json_string)\n",
        "    self.advert_information = advert_information\n",
        "\n",
        "  def information_returner(self, given_information: str, needed_field: str) -> str:\n",
        "    format_needed = json.loads(given_information)\n",
        "    return format_needed[needed_field]\n",
        "  \n",
        "  def location(self) -> str: \n",
        "    return self.information_returner(self.advert_information, \"location\")\n",
        "\n",
        "  def address(self) -> str: \n",
        "    location_data = Advert(str(self.information_returner(self.advert_information, \"location\")).replace(\"'\", '\"'))\n",
        "    return location_data.information_returner(location_data.advert_information, \"address\")\n",
        "  \n",
        "\n",
        "lesson = Advert(lesson_str)\n",
        "print(lesson.location())\n",
        "print(lesson.address()) #а хочу lesson.location.address\n",
        "print(lesson.location.address)"
      ],
      "metadata": {
        "colab": {
          "base_uri": "https://localhost:8080/",
          "height": 380
        },
        "id": "R9YiHQSUidNg",
        "outputId": "24aff0b9-e0d4-4b5c-f23e-5b0c93be259b"
      },
      "execution_count": null,
      "outputs": [
        {
          "output_type": "stream",
          "name": "stdout",
          "text": [
            "{'address': 'город Москва, Лесная, 7', 'metro_stations': ['Белорусская']}\n"
          ]
        },
        {
          "output_type": "error",
          "ename": "TypeError",
          "evalue": "ignored",
          "traceback": [
            "\u001b[0;31m---------------------------------------------------------------------------\u001b[0m",
            "\u001b[0;31mTypeError\u001b[0m                                 Traceback (most recent call last)",
            "\u001b[0;32m<ipython-input-21-e95601712b0b>\u001b[0m in \u001b[0;36m<module>\u001b[0;34m\u001b[0m\n\u001b[1;32m     34\u001b[0m \u001b[0mlesson\u001b[0m \u001b[0;34m=\u001b[0m \u001b[0mAdvert\u001b[0m\u001b[0;34m(\u001b[0m\u001b[0mlesson_str\u001b[0m\u001b[0;34m)\u001b[0m\u001b[0;34m\u001b[0m\u001b[0;34m\u001b[0m\u001b[0m\n\u001b[1;32m     35\u001b[0m \u001b[0mprint\u001b[0m\u001b[0;34m(\u001b[0m\u001b[0mlesson\u001b[0m\u001b[0;34m.\u001b[0m\u001b[0mlocation\u001b[0m\u001b[0;34m(\u001b[0m\u001b[0;34m)\u001b[0m\u001b[0;34m)\u001b[0m\u001b[0;34m\u001b[0m\u001b[0;34m\u001b[0m\u001b[0m\n\u001b[0;32m---> 36\u001b[0;31m \u001b[0mprint\u001b[0m\u001b[0;34m(\u001b[0m\u001b[0mlesson\u001b[0m\u001b[0;34m.\u001b[0m\u001b[0maddress\u001b[0m\u001b[0;34m(\u001b[0m\u001b[0;34m)\u001b[0m\u001b[0;34m)\u001b[0m \u001b[0;31m#а хочу lesson.location.address\u001b[0m\u001b[0;34m\u001b[0m\u001b[0;34m\u001b[0m\u001b[0m\n\u001b[0m\u001b[1;32m     37\u001b[0m \u001b[0mprint\u001b[0m\u001b[0;34m(\u001b[0m\u001b[0mlesson\u001b[0m\u001b[0;34m.\u001b[0m\u001b[0mlocation\u001b[0m\u001b[0;34m.\u001b[0m\u001b[0maddress1\u001b[0m\u001b[0;34m)\u001b[0m\u001b[0;34m\u001b[0m\u001b[0;34m\u001b[0m\u001b[0m\n",
            "\u001b[0;32m<ipython-input-21-e95601712b0b>\u001b[0m in \u001b[0;36maddress\u001b[0;34m(self)\u001b[0m\n\u001b[1;32m     28\u001b[0m \u001b[0;34m\u001b[0m\u001b[0m\n\u001b[1;32m     29\u001b[0m   \u001b[0;32mdef\u001b[0m \u001b[0maddress\u001b[0m\u001b[0;34m(\u001b[0m\u001b[0mself\u001b[0m\u001b[0;34m)\u001b[0m \u001b[0;34m->\u001b[0m \u001b[0mstr\u001b[0m\u001b[0;34m:\u001b[0m\u001b[0;34m\u001b[0m\u001b[0;34m\u001b[0m\u001b[0m\n\u001b[0;32m---> 30\u001b[0;31m     \u001b[0mlocation_data\u001b[0m \u001b[0;34m=\u001b[0m \u001b[0mAdvert\u001b[0m\u001b[0;34m(\u001b[0m\u001b[0mstr\u001b[0m\u001b[0;34m(\u001b[0m\u001b[0mself\u001b[0m\u001b[0;34m.\u001b[0m\u001b[0minformation_returner\u001b[0m\u001b[0;34m(\u001b[0m\u001b[0mself\u001b[0m\u001b[0;34m.\u001b[0m\u001b[0madvert_information\u001b[0m\u001b[0;34m,\u001b[0m \u001b[0;34m\"location\"\u001b[0m\u001b[0;34m)\u001b[0m\u001b[0;34m)\u001b[0m\u001b[0;34m.\u001b[0m\u001b[0mreplace\u001b[0m\u001b[0;34m(\u001b[0m\u001b[0;34m\"'\"\u001b[0m\u001b[0;34m,\u001b[0m \u001b[0;34m'\"'\u001b[0m\u001b[0;34m)\u001b[0m\u001b[0;34m)\u001b[0m\u001b[0;34m\u001b[0m\u001b[0;34m\u001b[0m\u001b[0m\n\u001b[0m\u001b[1;32m     31\u001b[0m     \u001b[0;32mreturn\u001b[0m \u001b[0mlocation_data\u001b[0m\u001b[0;34m.\u001b[0m\u001b[0minformation_returner\u001b[0m\u001b[0;34m(\u001b[0m\u001b[0mlocation_data\u001b[0m\u001b[0;34m.\u001b[0m\u001b[0madvert_information\u001b[0m\u001b[0;34m,\u001b[0m \u001b[0;34m\"address\"\u001b[0m\u001b[0;34m)\u001b[0m\u001b[0;34m\u001b[0m\u001b[0;34m\u001b[0m\u001b[0m\n\u001b[1;32m     32\u001b[0m \u001b[0;34m\u001b[0m\u001b[0m\n",
            "\u001b[0;32m<ipython-input-21-e95601712b0b>\u001b[0m in \u001b[0;36minformation_returner\u001b[0;34m(self, given_information, needed_field)\u001b[0m\n\u001b[1;32m     17\u001b[0m \u001b[0;34m\u001b[0m\u001b[0m\n\u001b[1;32m     18\u001b[0m   \u001b[0;32mdef\u001b[0m \u001b[0minformation_returner\u001b[0m\u001b[0;34m(\u001b[0m\u001b[0mself\u001b[0m\u001b[0;34m,\u001b[0m \u001b[0mgiven_information\u001b[0m\u001b[0;34m:\u001b[0m \u001b[0mstr\u001b[0m\u001b[0;34m,\u001b[0m \u001b[0mneeded_field\u001b[0m\u001b[0;34m:\u001b[0m \u001b[0mstr\u001b[0m\u001b[0;34m)\u001b[0m \u001b[0;34m->\u001b[0m \u001b[0mstr\u001b[0m\u001b[0;34m:\u001b[0m\u001b[0;34m\u001b[0m\u001b[0;34m\u001b[0m\u001b[0m\n\u001b[0;32m---> 19\u001b[0;31m     \u001b[0mformat_needed\u001b[0m \u001b[0;34m=\u001b[0m \u001b[0mjson\u001b[0m\u001b[0;34m.\u001b[0m\u001b[0mloads\u001b[0m\u001b[0;34m(\u001b[0m\u001b[0mgiven_information\u001b[0m\u001b[0;34m)\u001b[0m\u001b[0;34m\u001b[0m\u001b[0;34m\u001b[0m\u001b[0m\n\u001b[0m\u001b[1;32m     20\u001b[0m     \u001b[0;32mreturn\u001b[0m \u001b[0mformat_needed\u001b[0m\u001b[0;34m[\u001b[0m\u001b[0mneeded_field\u001b[0m\u001b[0;34m]\u001b[0m\u001b[0;34m\u001b[0m\u001b[0;34m\u001b[0m\u001b[0m\n\u001b[1;32m     21\u001b[0m \u001b[0;34m\u001b[0m\u001b[0m\n",
            "\u001b[0;32m/usr/lib/python3.7/json/__init__.py\u001b[0m in \u001b[0;36mloads\u001b[0;34m(s, encoding, cls, object_hook, parse_float, parse_int, parse_constant, object_pairs_hook, **kw)\u001b[0m\n\u001b[1;32m    339\u001b[0m     \u001b[0;32melse\u001b[0m\u001b[0;34m:\u001b[0m\u001b[0;34m\u001b[0m\u001b[0;34m\u001b[0m\u001b[0m\n\u001b[1;32m    340\u001b[0m         \u001b[0;32mif\u001b[0m \u001b[0;32mnot\u001b[0m \u001b[0misinstance\u001b[0m\u001b[0;34m(\u001b[0m\u001b[0ms\u001b[0m\u001b[0;34m,\u001b[0m \u001b[0;34m(\u001b[0m\u001b[0mbytes\u001b[0m\u001b[0;34m,\u001b[0m \u001b[0mbytearray\u001b[0m\u001b[0;34m)\u001b[0m\u001b[0;34m)\u001b[0m\u001b[0;34m:\u001b[0m\u001b[0;34m\u001b[0m\u001b[0;34m\u001b[0m\u001b[0m\n\u001b[0;32m--> 341\u001b[0;31m             raise TypeError(f'the JSON object must be str, bytes or bytearray, '\n\u001b[0m\u001b[1;32m    342\u001b[0m                             f'not {s.__class__.__name__}')\n\u001b[1;32m    343\u001b[0m         \u001b[0ms\u001b[0m \u001b[0;34m=\u001b[0m \u001b[0ms\u001b[0m\u001b[0;34m.\u001b[0m\u001b[0mdecode\u001b[0m\u001b[0;34m(\u001b[0m\u001b[0mdetect_encoding\u001b[0m\u001b[0;34m(\u001b[0m\u001b[0ms\u001b[0m\u001b[0;34m)\u001b[0m\u001b[0;34m,\u001b[0m \u001b[0;34m'surrogatepass'\u001b[0m\u001b[0;34m)\u001b[0m\u001b[0;34m\u001b[0m\u001b[0;34m\u001b[0m\u001b[0m\n",
            "\u001b[0;31mTypeError\u001b[0m: the JSON object must be str, bytes or bytearray, not dict"
          ]
        }
      ]
    },
    {
      "cell_type": "code",
      "source": [
        "from typing import Dict\n",
        "\n",
        "class DotDict:\n",
        "    def __init__(self, another: Dict):\n",
        "        self.__another = another\n",
        "\n",
        "    def __getattribute__(self, name):\n",
        "        if name == \"_DotDict__another\":\n",
        "            return object.__getattribute__(self, name)\n",
        "\n",
        "        if name in self.__another:\n",
        "            value = self.__another[name]\n",
        "            if isinstance(value, dict):\n",
        "                return DotDict(value)\n",
        "            else:\n",
        "                return value\n",
        "\n",
        "        raise AttributeError\n",
        "\n",
        "if __name__ == \"__main__\":\n",
        "    data = {\"foo\": \"bar\", \"span\": 42, \"qwer\": {\"hello\": \"guys\"}}\n",
        "    dotdata = DotDict(data)\n",
        "\n",
        "    print(dotdata.foo)\n",
        "    print(dotdata.span)\n",
        "    print(dotdata.qwer.hello)"
      ],
      "metadata": {
        "colab": {
          "base_uri": "https://localhost:8080/"
        },
        "id": "fuXWIdbaI6Nn",
        "outputId": "c8d0567f-67e8-4e7c-f321-4c10256402ac"
      },
      "execution_count": null,
      "outputs": [
        {
          "output_type": "stream",
          "name": "stdout",
          "text": [
            "bar\n",
            "42\n",
            "guys\n"
          ]
        }
      ]
    },
    {
      "cell_type": "markdown",
      "source": [
        "**Задание 2**"
      ],
      "metadata": {
        "id": "If0aVFpk6IuB"
      }
    },
    {
      "cell_type": "code",
      "source": [
        "class Advert:\n",
        "  def __init__(self, title, price):\n",
        "    self.title = title\n",
        "    self.price = price\n",
        "\n",
        "  def __repr__ (self):\n",
        "    return f'{self.title} | {self.price} ₽'\n",
        "    \n",
        "iphone_ad = Advert('iPhone X', 100) \n",
        "print(iphone_ad)"
      ],
      "metadata": {
        "id": "53chswrbtN9w",
        "colab": {
          "base_uri": "https://localhost:8080/"
        },
        "outputId": "6ffd1ff3-98c2-451d-c896-31b3f508aa00"
      },
      "execution_count": null,
      "outputs": [
        {
          "output_type": "stream",
          "name": "stdout",
          "text": [
            "iPhone X | 100 ₽\n"
          ]
        }
      ]
    },
    {
      "cell_type": "code",
      "source": [
        "class ColorizeMixin:\n",
        "  repr_color_code = 32"
      ],
      "metadata": {
        "id": "-UFEFGdo6VGC"
      },
      "execution_count": null,
      "outputs": []
    }
  ]
}