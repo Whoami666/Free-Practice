{
  "nbformat": 4,
  "nbformat_minor": 0,
  "metadata": {
    "colab": {
      "provenance": []
    },
    "kernelspec": {
      "name": "python3",
      "display_name": "Python 3"
    },
    "language_info": {
      "name": "python"
    }
  },
  "cells": [
    {
      "cell_type": "markdown",
      "source": [
        "опишите рецепты классами\n",
        "— пусть будет два размера: L и XL\n",
        "— метод dict() выводит рецепт в виде\n",
        "словаря"
      ],
      "metadata": {
        "id": "n30WuVlp-PfZ"
      }
    },
    {
      "cell_type": "markdown",
      "source": [
        "Margherita\n",
        "* tomato sauce\n",
        "* mozzarella\n",
        "* tomatoes\n",
        "\n",
        "Pepperoni\n",
        "* tomato sauce\n",
        "* mozzarella\n",
        "* pepperoni\n",
        "\n",
        "Hawaiian\n",
        "* tomato sauce\n",
        "* mozzarella\n",
        "* chicken\n",
        "* pineapples"
      ],
      "metadata": {
        "id": "yt21K7UI-TRe"
      }
    },
    {
      "cell_type": "code",
      "execution_count": 47,
      "metadata": {
        "colab": {
          "base_uri": "https://localhost:8080/"
        },
        "id": "Z8BfP9hT9xSu",
        "outputId": "3383e01f-db96-457f-a3ea-3c379f8cc8b3"
      },
      "outputs": [
        {
          "output_type": "stream",
          "name": "stdout",
          "text": [
            "Pizza Margherita 🍟:\n",
            "🥄tomatoes\n",
            "🥄tomato sauce\n",
            "🥄mozzarella\n",
            "\n",
            "Pizza Pepperoni 🍕🍕🍕:\n",
            "🥄tomato sauce\n",
            "🥄pepperoni\n",
            "🥄mozzarella\n",
            "\n",
            "Pizza Hawaiian 🧀:\n",
            "🥄tomato sauce\n",
            "🥄chicken\n",
            "🥄mozzarella\n",
            "🥄pineapples\n",
            "\n"
          ]
        }
      ],
      "source": [
        "class Pizza:\n",
        "  def __init__(self, name, ingredients, icon = \"🍕\", size = 'L'):\n",
        "    self.name = name\n",
        "    self.ingredients = ingredients\n",
        "    self.icon = icon\n",
        "    self.size = size\n",
        "    if size == \"XL\":\n",
        "      self.cooking_time = len(ingredients)*3\n",
        "    else:\n",
        "      self.cooking_time = len(ingredients)*2\n",
        "  \n",
        "  def menu(self):\n",
        "    beautiful_string = \"\"\n",
        "    for ingredient in self.ingredients:\n",
        "      beautiful_string += '🥄' + str(ingredient) + '\\n'\n",
        "\n",
        "    icon_printer = self.icon\n",
        "    if self.size == 'XL':\n",
        "      icon_printer += self.icon*2\n",
        "    return f\"Pizza {self.name} {icon_printer}:\\n{beautiful_string}\"\n",
        "\n",
        "pizzas = [Pizza(\"Margherita\", [\"tomatoes\", \"tomato sauce\", \"mozzarella\"], \"🍟\"),\n",
        "          Pizza(\"Pepperoni\", [\"tomato sauce\", \"pepperoni\", \"mozzarella\"], size = \"XL\"),\n",
        "          Pizza(\"Hawaiian\", [\"tomato sauce\", \"chicken\", \"mozzarella\", \"pineapples\"], \"🧀\")]\n",
        "\n",
        "\n",
        "for pizza in pizzas:\n",
        "  print(pizza.menu())"
      ]
    },
    {
      "cell_type": "code",
      "source": [],
      "metadata": {
        "id": "62o2GL_4_jUt"
      },
      "execution_count": null,
      "outputs": []
    },
    {
      "cell_type": "code",
      "source": [
        "import click\n",
        "\n",
        "\n",
        "class Pizza:\n",
        "    def __init__(self, name, ingredients, icon=\"🍕\", size='L'):\n",
        "        self.name = name\n",
        "        self.ingredients = ingredients\n",
        "        self.icon = icon\n",
        "        self.size = size\n",
        "        if size == \"XL\":\n",
        "            self.cooking_time = len(ingredients) * 3\n",
        "        else:\n",
        "            self.cooking_time = len(ingredients) * 2\n",
        "\n",
        "    def menu(self):\n",
        "        beautiful_string = \"\"\n",
        "        for ingredient in self.ingredients:\n",
        "            beautiful_string += '🥄' + str(ingredient) + '\\n'\n",
        "\n",
        "        icon_printer = self.icon\n",
        "        if self.size == 'XL':\n",
        "            icon_printer += self.icon * 2\n",
        "        return f\"Pizza {self.name} {icon_printer}:\\n{beautiful_string}\"\n",
        "\n",
        "    def order(self):\n",
        "        return f\"Will cook {self.name} {icon_printer} in {cooking_time} minutes\\n\"\n",
        "\n",
        "\n",
        "pizzas = [Pizza(\"Margherita\", [\"tomatoes\", \"tomato sauce\", \"mozzarella\"], \"🍟\"),\n",
        "          Pizza(\"Pepperoni\", [\"tomato sauce\", \"pepperoni\", \"mozzarella\"], size=\"XL\"),\n",
        "          Pizza(\"Hawaiian\", [\"tomato sauce\", \"chicken\", \"mozzarella\", \"pineapples\"], \"🧀\")]\n",
        "\n",
        "\n",
        "@click.command()\n",
        "@click.argument('name', default='guest')\n",
        "def hello(name):\n",
        "    click.echo(f'Hello {name}')\n",
        "\n",
        "\n",
        "@click.command()\n",
        "def menu():\n",
        "    for pizza in pizzas:\n",
        "        click.echo(pizza.menu())\n",
        "\n",
        "\n",
        "@click.command()\n",
        "@click.argument('name')\n",
        "def order(name):\n",
        "    for pizza in pizzas:\n",
        "        if pizza.name == name:\n",
        "            click.echo(pizza.order)\n",
        "\n",
        "\n",
        "@click.argument('name')\n",
        "def hello(count, name):\n",
        "    for x in range(count):\n",
        "        click.echo(f\"Hello {name}!\")\n",
        "\n",
        "\n",
        "for pizza in pizzas:\n",
        "    print(pizza.menu())"
      ],
      "metadata": {
        "colab": {
          "base_uri": "https://localhost:8080/"
        },
        "id": "URNPBxM6IVHh",
        "outputId": "3d5a8a2e-c869-47a4-f6d1-ad72efbef60a"
      },
      "execution_count": 56,
      "outputs": [
        {
          "output_type": "stream",
          "name": "stdout",
          "text": [
            "Pizza Margherita 🍟:\n",
            "🥄tomatoes\n",
            "🥄tomato sauce\n",
            "🥄mozzarella\n",
            "\n",
            "Pizza Pepperoni 🍕🍕🍕:\n",
            "🥄tomato sauce\n",
            "🥄pepperoni\n",
            "🥄mozzarella\n",
            "\n",
            "Pizza Hawaiian 🧀:\n",
            "🥄tomato sauce\n",
            "🥄chicken\n",
            "🥄mozzarella\n",
            "🥄pineapples\n",
            "\n"
          ]
        }
      ]
    },
    {
      "cell_type": "code",
      "source": [],
      "metadata": {
        "id": "nQfnrXaBIVju"
      },
      "execution_count": null,
      "outputs": []
    }
  ]
}