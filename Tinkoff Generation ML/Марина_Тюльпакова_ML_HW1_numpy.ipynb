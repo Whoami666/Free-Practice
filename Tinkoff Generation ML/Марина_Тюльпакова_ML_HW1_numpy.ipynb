{
  "nbformat": 4,
  "nbformat_minor": 5,
  "metadata": {
    "kernelspec": {
      "display_name": "Python 3",
      "language": "python",
      "name": "python3"
    },
    "language_info": {
      "codemirror_mode": {
        "name": "ipython",
        "version": 3
      },
      "file_extension": ".py",
      "mimetype": "text/x-python",
      "name": "python",
      "nbconvert_exporter": "python",
      "pygments_lexer": "ipython3",
      "version": "3.7.10"
    },
    "colab": {
      "name": "Марина_Тюльпакова_ML_HW1_numpy.ipynb",
      "provenance": [],
      "collapsed_sections": []
    }
  },
  "cells": [
    {
      "cell_type": "markdown",
      "metadata": {
        "id": "VvFvjNBH3QY3"
      },
      "source": [
        "## Домашнее задание"
      ],
      "id": "VvFvjNBH3QY3"
    },
    {
      "cell_type": "markdown",
      "metadata": {
        "id": "F1nB_pZ53TLc"
      },
      "source": [
        "В этой тетрадке вам предлагается реализовать задания при помощи библиотеки numpy. Крайне желательно при выполнении разных заданий не использовать циклы. Если вы не понимаете, как выполнить конкретную задачу без циклов - убирайте их постепенно, разбейте выполнение задачи на этапы и постепенно векторизуйте каждый этап.\n",
        "\n",
        "Если вам непонятно, как выполнить ту или иную операцию - не стесняйтесь гуглить, если над вами повис дедлайн, а вы всё ещё на чём-то застряли - пишите преподу/в чат, это ок.\n",
        "\n",
        "**Обсудить решение лучше и сделать в итоге хоть что-то гораздо лучше, чем скатать чужой код или сдать пустую тетрадку.**"
      ],
      "id": "F1nB_pZ53TLc"
    },
    {
      "cell_type": "code",
      "metadata": {
        "id": "BxCGcHcxyAwh"
      },
      "source": [
        "import numpy as np\n",
        "np.set_printoptions(suppress=True)"
      ],
      "id": "BxCGcHcxyAwh",
      "execution_count": null,
      "outputs": []
    },
    {
      "cell_type": "code",
      "metadata": {
        "id": "Xufqf3WD6XZM"
      },
      "source": [
        "import random"
      ],
      "id": "Xufqf3WD6XZM",
      "execution_count": null,
      "outputs": []
    },
    {
      "cell_type": "markdown",
      "metadata": {
        "id": "byY0Ab4Jww36"
      },
      "source": [
        "### Drill (1 балл)"
      ],
      "id": "byY0Ab4Jww36"
    },
    {
      "cell_type": "markdown",
      "metadata": {
        "id": "g9nrcP5ExLOr"
      },
      "source": [
        "Задание 1.\n",
        "\n",
        "Инициализируйте нулями массивы следующих форм:\n",
        "\n",
        "* (5)\n",
        "* (5, 1)\n",
        "* (10, 2)\n",
        "* (3, 6, 2)\n",
        "* (4, 3, 2, 1)"
      ],
      "id": "g9nrcP5ExLOr"
    },
    {
      "cell_type": "code",
      "metadata": {
        "id": "GDFryOCFwwO5",
        "colab": {
          "base_uri": "https://localhost:8080/"
        },
        "outputId": "c620ff93-b712-435f-c098-7c039981cd1a"
      },
      "source": [
        "a = np.zeros(5)\n",
        "a"
      ],
      "id": "GDFryOCFwwO5",
      "execution_count": null,
      "outputs": [
        {
          "output_type": "execute_result",
          "data": {
            "text/plain": [
              "array([0., 0., 0., 0., 0.])"
            ]
          },
          "metadata": {},
          "execution_count": 5
        }
      ]
    },
    {
      "cell_type": "code",
      "metadata": {
        "id": "JrN6hnrE3BsH",
        "colab": {
          "base_uri": "https://localhost:8080/"
        },
        "outputId": "9d5d50ce-f54b-4737-a9f0-f4c9854c287b"
      },
      "source": [
        "b = a.reshape(5, 1)\n",
        "b"
      ],
      "id": "JrN6hnrE3BsH",
      "execution_count": null,
      "outputs": [
        {
          "output_type": "execute_result",
          "data": {
            "text/plain": [
              "array([[0.],\n",
              "       [0.],\n",
              "       [0.],\n",
              "       [0.],\n",
              "       [0.]])"
            ]
          },
          "metadata": {},
          "execution_count": 12
        }
      ]
    },
    {
      "cell_type": "code",
      "metadata": {
        "id": "p7B8jl-u3BoJ",
        "colab": {
          "base_uri": "https://localhost:8080/"
        },
        "outputId": "194dd0aa-f962-447c-dc69-77377e822ddb"
      },
      "source": [
        "c = np.zeros(10*2)\n",
        "c.reshape(10, 2)"
      ],
      "id": "p7B8jl-u3BoJ",
      "execution_count": null,
      "outputs": [
        {
          "output_type": "execute_result",
          "data": {
            "text/plain": [
              "array([[0., 0.],\n",
              "       [0., 0.],\n",
              "       [0., 0.],\n",
              "       [0., 0.],\n",
              "       [0., 0.],\n",
              "       [0., 0.],\n",
              "       [0., 0.],\n",
              "       [0., 0.],\n",
              "       [0., 0.],\n",
              "       [0., 0.]])"
            ]
          },
          "metadata": {},
          "execution_count": 15
        }
      ]
    },
    {
      "cell_type": "code",
      "metadata": {
        "id": "DeD21uZq3BP9",
        "colab": {
          "base_uri": "https://localhost:8080/"
        },
        "outputId": "4b46d7bd-3bcf-4447-b3ea-51df55ce9c32"
      },
      "source": [
        "d = np.zeros(3*6*2)\n",
        "d.reshape(3, 6, 2)"
      ],
      "id": "DeD21uZq3BP9",
      "execution_count": null,
      "outputs": [
        {
          "output_type": "execute_result",
          "data": {
            "text/plain": [
              "array([[[0., 0.],\n",
              "        [0., 0.],\n",
              "        [0., 0.],\n",
              "        [0., 0.],\n",
              "        [0., 0.],\n",
              "        [0., 0.]],\n",
              "\n",
              "       [[0., 0.],\n",
              "        [0., 0.],\n",
              "        [0., 0.],\n",
              "        [0., 0.],\n",
              "        [0., 0.],\n",
              "        [0., 0.]],\n",
              "\n",
              "       [[0., 0.],\n",
              "        [0., 0.],\n",
              "        [0., 0.],\n",
              "        [0., 0.],\n",
              "        [0., 0.],\n",
              "        [0., 0.]]])"
            ]
          },
          "metadata": {},
          "execution_count": 16
        }
      ]
    },
    {
      "cell_type": "code",
      "metadata": {
        "id": "OmdAT1XS4WVA",
        "colab": {
          "base_uri": "https://localhost:8080/"
        },
        "outputId": "ea6d93a7-4688-4c9d-a11c-787b46456666"
      },
      "source": [
        "e = np.zeros(4*3*2*1)\n",
        "e.reshape(4, 3, 2, 1)"
      ],
      "id": "OmdAT1XS4WVA",
      "execution_count": null,
      "outputs": [
        {
          "output_type": "execute_result",
          "data": {
            "text/plain": [
              "array([[[[0.],\n",
              "         [0.]],\n",
              "\n",
              "        [[0.],\n",
              "         [0.]],\n",
              "\n",
              "        [[0.],\n",
              "         [0.]]],\n",
              "\n",
              "\n",
              "       [[[0.],\n",
              "         [0.]],\n",
              "\n",
              "        [[0.],\n",
              "         [0.]],\n",
              "\n",
              "        [[0.],\n",
              "         [0.]]],\n",
              "\n",
              "\n",
              "       [[[0.],\n",
              "         [0.]],\n",
              "\n",
              "        [[0.],\n",
              "         [0.]],\n",
              "\n",
              "        [[0.],\n",
              "         [0.]]],\n",
              "\n",
              "\n",
              "       [[[0.],\n",
              "         [0.]],\n",
              "\n",
              "        [[0.],\n",
              "         [0.]],\n",
              "\n",
              "        [[0.],\n",
              "         [0.]]]])"
            ]
          },
          "metadata": {},
          "execution_count": 18
        }
      ]
    },
    {
      "cell_type": "markdown",
      "metadata": {
        "id": "nB5ePY6S5AWx"
      },
      "source": [
        "Задание 2.\n",
        "\n",
        "Инициализируйте единицами массивы таких же форм и приведите их к целочисленному виду:"
      ],
      "id": "nB5ePY6S5AWx"
    },
    {
      "cell_type": "code",
      "metadata": {
        "id": "bW7_oEBw5Ga8",
        "colab": {
          "base_uri": "https://localhost:8080/"
        },
        "outputId": "75b819ad-badb-4548-e977-713b696409f8"
      },
      "source": [
        "np.ones(5).astype(int)\n"
      ],
      "id": "bW7_oEBw5Ga8",
      "execution_count": null,
      "outputs": [
        {
          "output_type": "execute_result",
          "data": {
            "text/plain": [
              "array([1, 1, 1, 1, 1])"
            ]
          },
          "metadata": {},
          "execution_count": 22
        }
      ]
    },
    {
      "cell_type": "code",
      "metadata": {
        "id": "VO--oQaz5N5r",
        "colab": {
          "base_uri": "https://localhost:8080/"
        },
        "outputId": "f0748860-e91d-4f62-e370-5877a8a2c183"
      },
      "source": [
        "np.ones((5, 1)).astype(int)"
      ],
      "id": "VO--oQaz5N5r",
      "execution_count": null,
      "outputs": [
        {
          "output_type": "execute_result",
          "data": {
            "text/plain": [
              "array([[1],\n",
              "       [1],\n",
              "       [1],\n",
              "       [1],\n",
              "       [1]])"
            ]
          },
          "metadata": {},
          "execution_count": 24
        }
      ]
    },
    {
      "cell_type": "code",
      "metadata": {
        "id": "spZf_w_E5N3V",
        "colab": {
          "base_uri": "https://localhost:8080/"
        },
        "outputId": "50454f1b-95a7-4968-a7e6-129b95b5abe9"
      },
      "source": [
        "np.ones((10, 2)).astype(int)"
      ],
      "id": "spZf_w_E5N3V",
      "execution_count": null,
      "outputs": [
        {
          "output_type": "execute_result",
          "data": {
            "text/plain": [
              "array([[1, 1],\n",
              "       [1, 1],\n",
              "       [1, 1],\n",
              "       [1, 1],\n",
              "       [1, 1],\n",
              "       [1, 1],\n",
              "       [1, 1],\n",
              "       [1, 1],\n",
              "       [1, 1],\n",
              "       [1, 1]])"
            ]
          },
          "metadata": {},
          "execution_count": 25
        }
      ]
    },
    {
      "cell_type": "code",
      "metadata": {
        "id": "TtAJxLpu5N0m",
        "colab": {
          "base_uri": "https://localhost:8080/"
        },
        "outputId": "049f349f-756e-485c-b8ec-d67ef081ed2c"
      },
      "source": [
        "np.ones((3, 6, 2)).astype(int)"
      ],
      "id": "TtAJxLpu5N0m",
      "execution_count": null,
      "outputs": [
        {
          "output_type": "execute_result",
          "data": {
            "text/plain": [
              "array([[[1, 1],\n",
              "        [1, 1],\n",
              "        [1, 1],\n",
              "        [1, 1],\n",
              "        [1, 1],\n",
              "        [1, 1]],\n",
              "\n",
              "       [[1, 1],\n",
              "        [1, 1],\n",
              "        [1, 1],\n",
              "        [1, 1],\n",
              "        [1, 1],\n",
              "        [1, 1]],\n",
              "\n",
              "       [[1, 1],\n",
              "        [1, 1],\n",
              "        [1, 1],\n",
              "        [1, 1],\n",
              "        [1, 1],\n",
              "        [1, 1]]])"
            ]
          },
          "metadata": {},
          "execution_count": 26
        }
      ]
    },
    {
      "cell_type": "code",
      "metadata": {
        "id": "ULsq7tUU5Nxn",
        "colab": {
          "base_uri": "https://localhost:8080/"
        },
        "outputId": "23e3d44f-5484-446c-851b-3b5ba4152554"
      },
      "source": [
        "np.ones((4, 3, 2, 1)).astype(int)"
      ],
      "id": "ULsq7tUU5Nxn",
      "execution_count": null,
      "outputs": [
        {
          "output_type": "execute_result",
          "data": {
            "text/plain": [
              "array([[[[1],\n",
              "         [1]],\n",
              "\n",
              "        [[1],\n",
              "         [1]],\n",
              "\n",
              "        [[1],\n",
              "         [1]]],\n",
              "\n",
              "\n",
              "       [[[1],\n",
              "         [1]],\n",
              "\n",
              "        [[1],\n",
              "         [1]],\n",
              "\n",
              "        [[1],\n",
              "         [1]]],\n",
              "\n",
              "\n",
              "       [[[1],\n",
              "         [1]],\n",
              "\n",
              "        [[1],\n",
              "         [1]],\n",
              "\n",
              "        [[1],\n",
              "         [1]]],\n",
              "\n",
              "\n",
              "       [[[1],\n",
              "         [1]],\n",
              "\n",
              "        [[1],\n",
              "         [1]],\n",
              "\n",
              "        [[1],\n",
              "         [1]]]])"
            ]
          },
          "metadata": {},
          "execution_count": 27
        }
      ]
    },
    {
      "cell_type": "markdown",
      "metadata": {
        "id": "_S7FJFXexb3o"
      },
      "source": [
        "Задание 3.\n",
        "\n",
        "Выполните для векторов выше `reshape` в\n",
        "* 2 произвольных компоненты\n",
        "* 3 произвольных компоненты\n",
        "* 4 произвольных компоненты"
      ],
      "id": "_S7FJFXexb3o"
    },
    {
      "cell_type": "code",
      "metadata": {
        "id": "XDWmmsoYXBDP",
        "colab": {
          "base_uri": "https://localhost:8080/",
          "height": 195
        },
        "outputId": "421da9d6-aff1-405f-9f73-0ae9d385d8a3"
      },
      "source": [
        "\n",
        "a = np.ones(5)\n",
        "number = random.randint(1, 5) \n",
        "a.reshape(-1, number)"
      ],
      "id": "XDWmmsoYXBDP",
      "execution_count": null,
      "outputs": [
        {
          "output_type": "error",
          "ename": "ValueError",
          "evalue": "ignored",
          "traceback": [
            "\u001b[0;31m---------------------------------------------------------------------------\u001b[0m",
            "\u001b[0;31mValueError\u001b[0m                                Traceback (most recent call last)",
            "\u001b[0;32m<ipython-input-35-8abf41053d0e>\u001b[0m in \u001b[0;36m<module>\u001b[0;34m()\u001b[0m\n\u001b[1;32m      2\u001b[0m \u001b[0ma\u001b[0m \u001b[0;34m=\u001b[0m \u001b[0mnp\u001b[0m\u001b[0;34m.\u001b[0m\u001b[0mones\u001b[0m\u001b[0;34m(\u001b[0m\u001b[0;36m5\u001b[0m\u001b[0;34m)\u001b[0m\u001b[0;34m\u001b[0m\u001b[0;34m\u001b[0m\u001b[0m\n\u001b[1;32m      3\u001b[0m \u001b[0mnumber\u001b[0m \u001b[0;34m=\u001b[0m \u001b[0mrandom\u001b[0m\u001b[0;34m.\u001b[0m\u001b[0mrandint\u001b[0m\u001b[0;34m(\u001b[0m\u001b[0;36m1\u001b[0m\u001b[0;34m,\u001b[0m \u001b[0;36m5\u001b[0m\u001b[0;34m)\u001b[0m\u001b[0;34m\u001b[0m\u001b[0;34m\u001b[0m\u001b[0m\n\u001b[0;32m----> 4\u001b[0;31m \u001b[0ma\u001b[0m\u001b[0;34m.\u001b[0m\u001b[0mreshape\u001b[0m\u001b[0;34m(\u001b[0m\u001b[0;34m-\u001b[0m\u001b[0;36m1\u001b[0m\u001b[0;34m,\u001b[0m \u001b[0mnumber\u001b[0m\u001b[0;34m)\u001b[0m\u001b[0;34m\u001b[0m\u001b[0;34m\u001b[0m\u001b[0m\n\u001b[0m",
            "\u001b[0;31mValueError\u001b[0m: cannot reshape array of size 5 into shape (2)"
          ]
        }
      ]
    },
    {
      "cell_type": "markdown",
      "metadata": {
        "id": "Kp3SvzHyxyPp"
      },
      "source": [
        "Задание 4.\n",
        "\n",
        "Для вектора ниже посчитайте его\n",
        "* Максимум по 1 оси\n",
        "* Минимум по 0 оси\n",
        "* Сумму по всем осям\n",
        "* Среднее по 0 оси\n",
        "* Медиану по 1 оси"
      ],
      "id": "Kp3SvzHyxyPp"
    },
    {
      "cell_type": "code",
      "metadata": {
        "id": "5GcaTzGPx9Tk",
        "colab": {
          "base_uri": "https://localhost:8080/"
        },
        "outputId": "8af8c098-f365-4bd9-8f99-2cbfa78ed672"
      },
      "source": [
        "v = np.random.randint(0, 9, size=(5, 7))\n",
        "print(v)\n",
        "print(v[1].max(), v[0].max(), v.sum(), v[0].sum()/5, v[1].sum()/5)"
      ],
      "id": "5GcaTzGPx9Tk",
      "execution_count": null,
      "outputs": [
        {
          "output_type": "stream",
          "name": "stdout",
          "text": [
            "[[0 1 7 7 5 4 5]\n",
            " [8 8 6 4 1 8 0]\n",
            " [0 8 4 4 6 5 5]\n",
            " [8 6 8 6 0 6 2]\n",
            " [2 1 6 8 5 4 6]]\n",
            "8 7 164 5.8 7.0\n"
          ]
        }
      ]
    },
    {
      "cell_type": "markdown",
      "metadata": {
        "id": "EiVqZFtpyOHm"
      },
      "source": [
        "Задание 6.\n",
        "\n",
        "Для всё того же вектора `v` выведите\n",
        "* Его shape\n",
        "* 0 компоненту его \"формы\"\n",
        "* 1 компоненту его \"формы\""
      ],
      "id": "EiVqZFtpyOHm"
    },
    {
      "cell_type": "code",
      "metadata": {
        "id": "AazCPchWyYGa",
        "colab": {
          "base_uri": "https://localhost:8080/"
        },
        "outputId": "cb1a5748-f802-4aa0-d519-32975ed4ecf3"
      },
      "source": [
        "print(v.shape)\n",
        "print(v.shape[0])\n",
        "print(v.shape[1])"
      ],
      "id": "AazCPchWyYGa",
      "execution_count": null,
      "outputs": [
        {
          "output_type": "stream",
          "name": "stdout",
          "text": [
            "(5, 7)\n",
            "5\n",
            "7\n"
          ]
        }
      ]
    },
    {
      "cell_type": "markdown",
      "metadata": {
        "id": "9bdU9sq1ygiF"
      },
      "source": [
        "Задание 7.\n",
        "\n",
        "Для этого же вектора выведите\n",
        "* Все числа больше 5\n",
        "* Все числа меньше 7 в обратном порядке\n",
        "* Все числа больше 3, которые делятся на 4 без остатка\n",
        "* Все числа, остаток от деления на 5 которых равен 3\n",
        "* Индекс максимума\n",
        "* Индекс минимума\n",
        "* Cписок с индексами элементов отсортированного массива в исходном (неотсортированном)"
      ],
      "id": "9bdU9sq1ygiF"
    },
    {
      "cell_type": "code",
      "metadata": {
        "id": "WW0nmIYwyfLA",
        "colab": {
          "base_uri": "https://localhost:8080/"
        },
        "outputId": "20c48eaa-313d-4c41-b254-39a2129cc315"
      },
      "source": [
        "print(v[v > 5], \"  Все числа больше 5 \\n\")\n",
        "print(v[v < 7], \"     Все числа меньше 7\\n\") #это в обычном порядке\n",
        "print(v[v < 7][::-1], \"     Все числа меньше 7 в обратном порядке \\n\") #а вот это в обратном порядке =)\n",
        "print(v[(v > 3) & (v % 4 == 0)], \"      Все числа больше 3, которые делятся на 4 без остатка \\n\")\n",
        "print(v[v % 5 == 3], \"   Все числа, остаток от деления на 5 которых равен 3 \\n\")\n",
        "print(v.argmax(), \"      Индекс максимума\\n\")\n",
        "print(v.argmin(), \"      Индекс минимума\\n\")\n",
        "print(v.argsort(), \"     Cписок с индексами элементов отсортированного массива в исходном\\n\")\n"
      ],
      "id": "WW0nmIYwyfLA",
      "execution_count": null,
      "outputs": [
        {
          "output_type": "stream",
          "name": "stdout",
          "text": [
            "[7 7 8 8 6 8 8 6 8 6 8 6 6 6 8 6]   Все числа больше 5 \n",
            "\n",
            "[0 1 5 4 5 6 4 1 0 0 4 4 6 5 5 6 6 0 6 2 2 1 6 5 4 6]      Все числа меньше 7\n",
            "\n",
            "[6 4 5 6 1 2 2 6 0 6 6 5 5 6 4 4 0 0 1 4 6 5 4 5 1 0]      Все числа меньше 7 в обратном порядке \n",
            "\n",
            "[4 8 8 4 8 8 4 4 8 8 8 4]       Все числа больше 3, которые делятся на 4 без остатка \n",
            "\n",
            "[8 8 8 8 8 8 8]    Все числа, остаток от деления на 5 которых равен 3 \n",
            "\n",
            "7       Индекс максимума\n",
            "\n",
            "0       Индекс минимума\n",
            "\n",
            "[[0 1 5 4 6 2 3]\n",
            " [6 4 3 2 0 1 5]\n",
            " [0 2 3 5 6 4 1]\n",
            " [4 6 1 3 5 0 2]\n",
            " [1 0 5 4 2 6 3]]      Cписок с индексами элементов отсортированного массива в исходном\n",
            "\n"
          ]
        }
      ]
    },
    {
      "cell_type": "markdown",
      "metadata": {
        "id": "pd7gVNl9zN-s"
      },
      "source": [
        "Задание 8.\n",
        "\n",
        "Выполните следующие операции над вектором (независимо, не обязательно делать это в последовательности):\n",
        "* Умножьте его на 3\n",
        "* Разделите на 7\n",
        "* Возведите в степень $\\frac{2}{3}$\n",
        "* Посчитайте $\\sin$ от него\n",
        "* Посчитайте $\\log$ от него"
      ],
      "id": "pd7gVNl9zN-s"
    },
    {
      "cell_type": "code",
      "metadata": {
        "id": "iTQeUeJ2zNkz",
        "colab": {
          "base_uri": "https://localhost:8080/"
        },
        "outputId": "dfeb8d30-7727-449f-c1fc-599a51c50c86"
      },
      "source": [
        "w = np.random.randint(0, 9, size=(5, 7))\n",
        "print(w, \"                                         <====== сам вектор\\n\")\n",
        "print(w*3, \"                                       <===== умножили на 3\\n\")\n",
        "print(w/7, \"                                                         <===== поделили на 7\\n\")\n",
        "print(w**(2/3), \"                                                    <===== возвели в степень 2/3 \\n\")\n",
        "print(np.sin(w), \"                                                   <===== взяли синус \\n\")\n",
        "print(np.log(w), \"                                                   <===== взяли log \\n\")"
      ],
      "id": "iTQeUeJ2zNkz",
      "execution_count": null,
      "outputs": [
        {
          "output_type": "stream",
          "name": "stdout",
          "text": [
            "[[5 1 7 5 6 4 4]\n",
            " [6 7 7 4 1 3 1]\n",
            " [3 0 5 8 5 7 1]\n",
            " [8 6 1 2 4 4 7]\n",
            " [4 7 6 6 4 1 6]]                                          <====== сам вектор\n",
            "\n",
            "[[15  3 21 15 18 12 12]\n",
            " [18 21 21 12  3  9  3]\n",
            " [ 9  0 15 24 15 21  3]\n",
            " [24 18  3  6 12 12 21]\n",
            " [12 21 18 18 12  3 18]]                                        <===== умножили на 3\n",
            "\n",
            "[[0.71428571 0.14285714 1.         0.71428571 0.85714286 0.57142857\n",
            "  0.57142857]\n",
            " [0.85714286 1.         1.         0.57142857 0.14285714 0.42857143\n",
            "  0.14285714]\n",
            " [0.42857143 0.         0.71428571 1.14285714 0.71428571 1.\n",
            "  0.14285714]\n",
            " [1.14285714 0.85714286 0.14285714 0.28571429 0.57142857 0.57142857\n",
            "  1.        ]\n",
            " [0.57142857 1.         0.85714286 0.85714286 0.57142857 0.14285714\n",
            "  0.85714286]]                                                          <===== поделили на 7\n",
            "\n",
            "[[2.92401774 1.         3.65930571 2.92401774 3.30192725 2.5198421\n",
            "  2.5198421 ]\n",
            " [3.30192725 3.65930571 3.65930571 2.5198421  1.         2.08008382\n",
            "  1.        ]\n",
            " [2.08008382 0.         2.92401774 4.         2.92401774 3.65930571\n",
            "  1.        ]\n",
            " [4.         3.30192725 1.         1.58740105 2.5198421  2.5198421\n",
            "  3.65930571]\n",
            " [2.5198421  3.65930571 3.30192725 3.30192725 2.5198421  1.\n",
            "  3.30192725]]                                                     <===== возвели в степень 2/3 \n",
            "\n",
            "[[-0.95892427  0.84147098  0.6569866  -0.95892427 -0.2794155  -0.7568025\n",
            "  -0.7568025 ]\n",
            " [-0.2794155   0.6569866   0.6569866  -0.7568025   0.84147098  0.14112001\n",
            "   0.84147098]\n",
            " [ 0.14112001  0.         -0.95892427  0.98935825 -0.95892427  0.6569866\n",
            "   0.84147098]\n",
            " [ 0.98935825 -0.2794155   0.84147098  0.90929743 -0.7568025  -0.7568025\n",
            "   0.6569866 ]\n",
            " [-0.7568025   0.6569866  -0.2794155  -0.2794155  -0.7568025   0.84147098\n",
            "  -0.2794155 ]]                                                    <===== взяли синус \n",
            "\n",
            "[[1.60943791 0.         1.94591015 1.60943791 1.79175947 1.38629436\n",
            "  1.38629436]\n",
            " [1.79175947 1.94591015 1.94591015 1.38629436 0.         1.09861229\n",
            "  0.        ]\n",
            " [1.09861229       -inf 1.60943791 2.07944154 1.60943791 1.94591015\n",
            "  0.        ]\n",
            " [2.07944154 1.79175947 0.         0.69314718 1.38629436 1.38629436\n",
            "  1.94591015]\n",
            " [1.38629436 1.94591015 1.79175947 1.79175947 1.38629436 0.\n",
            "  1.79175947]]                                                    <===== взяли log \n",
            "\n"
          ]
        },
        {
          "output_type": "stream",
          "name": "stderr",
          "text": [
            "/usr/local/lib/python3.7/dist-packages/ipykernel_launcher.py:7: RuntimeWarning: divide by zero encountered in log\n",
            "  import sys\n"
          ]
        }
      ]
    },
    {
      "cell_type": "markdown",
      "metadata": {
        "id": "Njvzyat9w9Jw"
      },
      "source": [
        "### Разные инициализации + индексирование (3 балла)"
      ],
      "id": "Njvzyat9w9Jw"
    },
    {
      "cell_type": "markdown",
      "metadata": {
        "id": "IXB2M-hrB1C5"
      },
      "source": [
        "Задание 9.\n",
        "\n",
        "Необходимо построить квадрат $3 \\times 3$ из нечётных чисел"
      ],
      "id": "IXB2M-hrB1C5"
    },
    {
      "cell_type": "code",
      "metadata": {
        "id": "0pnAlUNO8w1h",
        "colab": {
          "base_uri": "https://localhost:8080/"
        },
        "outputId": "34427f7d-e9dd-4ec8-8cbb-73a568a9fc3c"
      },
      "source": [
        "a = np.arange(1, 18, 2)\n",
        "a.reshape(3, 3)\n"
      ],
      "id": "0pnAlUNO8w1h",
      "execution_count": null,
      "outputs": [
        {
          "output_type": "execute_result",
          "data": {
            "text/plain": [
              "array([[ 1,  3,  5],\n",
              "       [ 7,  9, 11],\n",
              "       [13, 15, 17]])"
            ]
          },
          "metadata": {},
          "execution_count": 33
        }
      ]
    },
    {
      "cell_type": "markdown",
      "metadata": {
        "id": "HmlcbwtOB5OT"
      },
      "source": [
        "Задание 10.\n",
        "\n",
        "Необходимо построить квадрат $4 \\times 4$ из четных чисел в обратном порядке"
      ],
      "id": "HmlcbwtOB5OT"
    },
    {
      "cell_type": "code",
      "metadata": {
        "id": "W0lqLNBB81-U",
        "colab": {
          "base_uri": "https://localhost:8080/"
        },
        "outputId": "068f3191-5aa4-4420-8e4d-6998a5b28550"
      },
      "source": [
        "a = np.arange(32, 0, -2)\n",
        "a.reshape(4, 4)"
      ],
      "id": "W0lqLNBB81-U",
      "execution_count": null,
      "outputs": [
        {
          "output_type": "execute_result",
          "data": {
            "text/plain": [
              "array([[32, 30, 28, 26],\n",
              "       [24, 22, 20, 18],\n",
              "       [16, 14, 12, 10],\n",
              "       [ 8,  6,  4,  2]])"
            ]
          },
          "metadata": {},
          "execution_count": 34
        }
      ]
    },
    {
      "cell_type": "markdown",
      "metadata": {
        "id": "IeOvIqrFB8zI"
      },
      "source": [
        "Задание 11.\n",
        "\n",
        "Необходимо построить сетку координат $11 \\times 11$ с точкой $(0,0)$ в центре и шагом $0.1$ между клетками"
      ],
      "id": "IeOvIqrFB8zI"
    },
    {
      "cell_type": "code",
      "metadata": {
        "id": "gXTZFQzd84lY",
        "colab": {
          "base_uri": "https://localhost:8080/"
        },
        "outputId": "9eefd0ea-6eaf-4e15-d84c-81c811888a4c"
      },
      "source": [
        "a = [[(k/10, j/10) for k in range(-5, 5)] for j in range(-5, 5)]\n",
        "#print(len(a), len(a[0])) #просто проверяю размерность, тк вывод какой-то кривой...\n",
        "\n",
        "\n",
        "a = np.arange(-0.5, 0.6, 0.1)\n",
        "b = np.arange(-0.5, 0.6, 0.1)\n",
        "b.reshape(11, 1)\n",
        "\n",
        "ans = np.meshgrid(a, b)\n",
        "np.dstack((ans[0], ans[1]))"
      ],
      "id": "gXTZFQzd84lY",
      "execution_count": null,
      "outputs": [
        {
          "output_type": "execute_result",
          "data": {
            "text/plain": [
              "array([[[-0.5, -0.5],\n",
              "        [-0.4, -0.5],\n",
              "        [-0.3, -0.5],\n",
              "        [-0.2, -0.5],\n",
              "        [-0.1, -0.5],\n",
              "        [-0. , -0.5],\n",
              "        [ 0.1, -0.5],\n",
              "        [ 0.2, -0.5],\n",
              "        [ 0.3, -0.5],\n",
              "        [ 0.4, -0.5],\n",
              "        [ 0.5, -0.5]],\n",
              "\n",
              "       [[-0.5, -0.4],\n",
              "        [-0.4, -0.4],\n",
              "        [-0.3, -0.4],\n",
              "        [-0.2, -0.4],\n",
              "        [-0.1, -0.4],\n",
              "        [-0. , -0.4],\n",
              "        [ 0.1, -0.4],\n",
              "        [ 0.2, -0.4],\n",
              "        [ 0.3, -0.4],\n",
              "        [ 0.4, -0.4],\n",
              "        [ 0.5, -0.4]],\n",
              "\n",
              "       [[-0.5, -0.3],\n",
              "        [-0.4, -0.3],\n",
              "        [-0.3, -0.3],\n",
              "        [-0.2, -0.3],\n",
              "        [-0.1, -0.3],\n",
              "        [-0. , -0.3],\n",
              "        [ 0.1, -0.3],\n",
              "        [ 0.2, -0.3],\n",
              "        [ 0.3, -0.3],\n",
              "        [ 0.4, -0.3],\n",
              "        [ 0.5, -0.3]],\n",
              "\n",
              "       [[-0.5, -0.2],\n",
              "        [-0.4, -0.2],\n",
              "        [-0.3, -0.2],\n",
              "        [-0.2, -0.2],\n",
              "        [-0.1, -0.2],\n",
              "        [-0. , -0.2],\n",
              "        [ 0.1, -0.2],\n",
              "        [ 0.2, -0.2],\n",
              "        [ 0.3, -0.2],\n",
              "        [ 0.4, -0.2],\n",
              "        [ 0.5, -0.2]],\n",
              "\n",
              "       [[-0.5, -0.1],\n",
              "        [-0.4, -0.1],\n",
              "        [-0.3, -0.1],\n",
              "        [-0.2, -0.1],\n",
              "        [-0.1, -0.1],\n",
              "        [-0. , -0.1],\n",
              "        [ 0.1, -0.1],\n",
              "        [ 0.2, -0.1],\n",
              "        [ 0.3, -0.1],\n",
              "        [ 0.4, -0.1],\n",
              "        [ 0.5, -0.1]],\n",
              "\n",
              "       [[-0.5, -0. ],\n",
              "        [-0.4, -0. ],\n",
              "        [-0.3, -0. ],\n",
              "        [-0.2, -0. ],\n",
              "        [-0.1, -0. ],\n",
              "        [-0. , -0. ],\n",
              "        [ 0.1, -0. ],\n",
              "        [ 0.2, -0. ],\n",
              "        [ 0.3, -0. ],\n",
              "        [ 0.4, -0. ],\n",
              "        [ 0.5, -0. ]],\n",
              "\n",
              "       [[-0.5,  0.1],\n",
              "        [-0.4,  0.1],\n",
              "        [-0.3,  0.1],\n",
              "        [-0.2,  0.1],\n",
              "        [-0.1,  0.1],\n",
              "        [-0. ,  0.1],\n",
              "        [ 0.1,  0.1],\n",
              "        [ 0.2,  0.1],\n",
              "        [ 0.3,  0.1],\n",
              "        [ 0.4,  0.1],\n",
              "        [ 0.5,  0.1]],\n",
              "\n",
              "       [[-0.5,  0.2],\n",
              "        [-0.4,  0.2],\n",
              "        [-0.3,  0.2],\n",
              "        [-0.2,  0.2],\n",
              "        [-0.1,  0.2],\n",
              "        [-0. ,  0.2],\n",
              "        [ 0.1,  0.2],\n",
              "        [ 0.2,  0.2],\n",
              "        [ 0.3,  0.2],\n",
              "        [ 0.4,  0.2],\n",
              "        [ 0.5,  0.2]],\n",
              "\n",
              "       [[-0.5,  0.3],\n",
              "        [-0.4,  0.3],\n",
              "        [-0.3,  0.3],\n",
              "        [-0.2,  0.3],\n",
              "        [-0.1,  0.3],\n",
              "        [-0. ,  0.3],\n",
              "        [ 0.1,  0.3],\n",
              "        [ 0.2,  0.3],\n",
              "        [ 0.3,  0.3],\n",
              "        [ 0.4,  0.3],\n",
              "        [ 0.5,  0.3]],\n",
              "\n",
              "       [[-0.5,  0.4],\n",
              "        [-0.4,  0.4],\n",
              "        [-0.3,  0.4],\n",
              "        [-0.2,  0.4],\n",
              "        [-0.1,  0.4],\n",
              "        [-0. ,  0.4],\n",
              "        [ 0.1,  0.4],\n",
              "        [ 0.2,  0.4],\n",
              "        [ 0.3,  0.4],\n",
              "        [ 0.4,  0.4],\n",
              "        [ 0.5,  0.4]],\n",
              "\n",
              "       [[-0.5,  0.5],\n",
              "        [-0.4,  0.5],\n",
              "        [-0.3,  0.5],\n",
              "        [-0.2,  0.5],\n",
              "        [-0.1,  0.5],\n",
              "        [-0. ,  0.5],\n",
              "        [ 0.1,  0.5],\n",
              "        [ 0.2,  0.5],\n",
              "        [ 0.3,  0.5],\n",
              "        [ 0.4,  0.5],\n",
              "        [ 0.5,  0.5]]])"
            ]
          },
          "metadata": {},
          "execution_count": 222
        }
      ]
    },
    {
      "cell_type": "markdown",
      "metadata": {
        "id": "BQD_BNN-CqCm"
      },
      "source": [
        "Задание 12.\n",
        "\n",
        "Замощение сетки $8\\times8$ при помощи $0$ и $1$ в шахматном порядке, клетка с индексом $(0,0)$ замощается $1$"
      ],
      "id": "BQD_BNN-CqCm"
    },
    {
      "cell_type": "code",
      "metadata": {
        "id": "whMdrRLx9G8Y",
        "colab": {
          "base_uri": "https://localhost:8080/"
        },
        "outputId": "d6716c9d-ca13-46ac-a138-d8915b063370"
      },
      "source": [
        "\n",
        "a, b = np.arange(8),  np.arange(1, 9)\n",
        "c = np.hstack((b%2, a%2))\n",
        "np.tile(c, 4).reshape(8, 8)\n",
        "\n"
      ],
      "id": "whMdrRLx9G8Y",
      "execution_count": null,
      "outputs": [
        {
          "output_type": "execute_result",
          "data": {
            "text/plain": [
              "array([[1, 0, 1, 0, 1, 0, 1, 0],\n",
              "       [0, 1, 0, 1, 0, 1, 0, 1],\n",
              "       [1, 0, 1, 0, 1, 0, 1, 0],\n",
              "       [0, 1, 0, 1, 0, 1, 0, 1],\n",
              "       [1, 0, 1, 0, 1, 0, 1, 0],\n",
              "       [0, 1, 0, 1, 0, 1, 0, 1],\n",
              "       [1, 0, 1, 0, 1, 0, 1, 0],\n",
              "       [0, 1, 0, 1, 0, 1, 0, 1]])"
            ]
          },
          "metadata": {},
          "execution_count": 111
        }
      ]
    },
    {
      "cell_type": "markdown",
      "metadata": {
        "id": "5tl1is5hCxH7"
      },
      "source": [
        "Задание 13.\n",
        "\n",
        "То же замощение, но клетка с индексом $(0,0)$ замощается $0$"
      ],
      "id": "5tl1is5hCxH7"
    },
    {
      "cell_type": "code",
      "metadata": {
        "id": "TP8Risy79TkG",
        "colab": {
          "base_uri": "https://localhost:8080/"
        },
        "outputId": "f7440bd3-521b-4571-fcbe-117b4352ff72"
      },
      "source": [
        "a, b = np.arange(8),  np.arange(1, 9)\n",
        "c = np.hstack((a%2, b%2))\n",
        "np.tile(c, 4).reshape(8, 8)"
      ],
      "id": "TP8Risy79TkG",
      "execution_count": null,
      "outputs": [
        {
          "output_type": "execute_result",
          "data": {
            "text/plain": [
              "array([[0, 1, 0, 1, 0, 1, 0, 1],\n",
              "       [1, 0, 1, 0, 1, 0, 1, 0],\n",
              "       [0, 1, 0, 1, 0, 1, 0, 1],\n",
              "       [1, 0, 1, 0, 1, 0, 1, 0],\n",
              "       [0, 1, 0, 1, 0, 1, 0, 1],\n",
              "       [1, 0, 1, 0, 1, 0, 1, 0],\n",
              "       [0, 1, 0, 1, 0, 1, 0, 1],\n",
              "       [1, 0, 1, 0, 1, 0, 1, 0]])"
            ]
          },
          "metadata": {},
          "execution_count": 110
        }
      ]
    },
    {
      "cell_type": "markdown",
      "metadata": {
        "id": "xwut71HZC401"
      },
      "source": [
        "Задание 14.\n",
        "\n",
        "Необходимо построить нижне-треугольную матрицу переменного размера (задается передачей параметра в функцию). Это единичная матрица,замощённая $1$ под главной диагональю"
      ],
      "id": "xwut71HZC401"
    },
    {
      "cell_type": "code",
      "metadata": {
        "id": "f819Rv2uxDOz",
        "colab": {
          "base_uri": "https://localhost:8080/"
        },
        "outputId": "f74754ed-93f9-47dd-d62e-f0fc8897ab46"
      },
      "source": [
        "a, b = 6, 5\n",
        "matrix = np.ones(a*b)\n",
        "\n",
        "m = matrix.reshape(a, b)\n",
        "np.tril(m)"
      ],
      "id": "f819Rv2uxDOz",
      "execution_count": null,
      "outputs": [
        {
          "output_type": "execute_result",
          "data": {
            "text/plain": [
              "array([[1., 0., 0., 0., 0.],\n",
              "       [1., 1., 0., 0., 0.],\n",
              "       [1., 1., 1., 0., 0.],\n",
              "       [1., 1., 1., 1., 0.],\n",
              "       [1., 1., 1., 1., 1.],\n",
              "       [1., 1., 1., 1., 1.]])"
            ]
          },
          "metadata": {},
          "execution_count": 151
        }
      ]
    },
    {
      "cell_type": "markdown",
      "metadata": {
        "id": "vhkgdaj3DGGr"
      },
      "source": [
        "Задание 15.\n",
        "\n",
        "Необходимо построить верхне-треугольную матрицу переменного размера. Это единичная матрица, замощённая $1$ над главной диагональю"
      ],
      "id": "vhkgdaj3DGGr"
    },
    {
      "cell_type": "code",
      "metadata": {
        "id": "bwsDUhYT9kP0",
        "colab": {
          "base_uri": "https://localhost:8080/"
        },
        "outputId": "a751ee46-6b45-4fa0-f624-66420a021017"
      },
      "source": [
        "e = np.eye(a, b)\n",
        "np.triu(m) - e\n"
      ],
      "id": "bwsDUhYT9kP0",
      "execution_count": null,
      "outputs": [
        {
          "output_type": "execute_result",
          "data": {
            "text/plain": [
              "array([[0., 1., 1., 1., 1.],\n",
              "       [0., 0., 1., 1., 1.],\n",
              "       [0., 0., 0., 1., 1.],\n",
              "       [0., 0., 0., 0., 1.],\n",
              "       [0., 0., 0., 0., 0.],\n",
              "       [0., 0., 0., 0., 0.]])"
            ]
          },
          "metadata": {},
          "execution_count": 152
        }
      ]
    },
    {
      "cell_type": "markdown",
      "metadata": {
        "id": "L2HbqtTjDM1a"
      },
      "source": [
        "Задание 16.\n",
        "\n",
        "Необходимо построить матрицу, в которой единицы стоят на побочной диагонали (идущей из левого нижнего угла в правый верхний), в остальных местах стоят $0$"
      ],
      "id": "L2HbqtTjDM1a"
    },
    {
      "cell_type": "code",
      "metadata": {
        "id": "vM6ez-K69to2",
        "colab": {
          "base_uri": "https://localhost:8080/"
        },
        "outputId": "a4c72523-b0a6-47e5-d898-c3817ce04fdc"
      },
      "source": [
        "e = np.eye(a, b)\n",
        "\n",
        "\n",
        "e1 = np.fliplr(e)\n",
        "np.transpose(e1)"
      ],
      "id": "vM6ez-K69to2",
      "execution_count": null,
      "outputs": [
        {
          "output_type": "execute_result",
          "data": {
            "text/plain": [
              "array([[0., 0., 0., 0., 1., 0.],\n",
              "       [0., 0., 0., 1., 0., 0.],\n",
              "       [0., 0., 1., 0., 0., 0.],\n",
              "       [0., 1., 0., 0., 0., 0.],\n",
              "       [1., 0., 0., 0., 0., 0.]])"
            ]
          },
          "metadata": {},
          "execution_count": 153
        }
      ]
    },
    {
      "cell_type": "markdown",
      "metadata": {
        "id": "xeL6jav0w0U-"
      },
      "source": [
        "### Операции + аггрегации (3 балла)"
      ],
      "id": "xeL6jav0w0U-"
    },
    {
      "cell_type": "markdown",
      "metadata": {
        "id": "vOPIAFopHUKs"
      },
      "source": [
        "Задание 17.\n",
        "\n",
        "Дана выборка $\\{X_i\\}$ некоторой случайной величины $X$, необходимо оценить\n",
        "* Математическое ожидание $E[X] = \\frac{1}{N}\\sum_{i=1}^N X_i$ этой случайной величины\n",
        "* Дисперсию $D[X] = \\frac{1}{N}\\sum_{i=1}^N (X_i - E[X])^2$ этой случайной величины"
      ],
      "id": "vOPIAFopHUKs"
    },
    {
      "cell_type": "code",
      "metadata": {
        "id": "uHQ-DiR4JB0p"
      },
      "source": [
        "def expected_value(x):\n",
        "    assert len(x) > 0\n",
        "    return sum(x) / len(x)\n",
        "\n",
        "\n",
        "def dispersion(x):\n",
        "    assert len(x) > 0\n",
        "    d = 0\n",
        "    e = expected_value(x)\n",
        "    for x_i in x:\n",
        "        d += (x_i - e) ** 2\n",
        "    return d / len(x)\n"
      ],
      "id": "uHQ-DiR4JB0p",
      "execution_count": null,
      "outputs": []
    },
    {
      "cell_type": "code",
      "metadata": {
        "id": "XVFo8hitHSav"
      },
      "source": [
        "def expected_value_np(x):\n",
        "    return sum(x)/x.shape[0]"
      ],
      "id": "XVFo8hitHSav",
      "execution_count": null,
      "outputs": []
    },
    {
      "cell_type": "code",
      "metadata": {
        "id": "f2jCC5EjJkl0"
      },
      "source": [
        "def dispersion_np(x):\n",
        "    e = expected_value(x)\n",
        "    full_e = np.full(x.shape[0], e)\n",
        "    d = ((x) - full_e)**2\n",
        "    return sum(d)/x.shape[0]"
      ],
      "id": "f2jCC5EjJkl0",
      "execution_count": null,
      "outputs": []
    },
    {
      "cell_type": "code",
      "metadata": {
        "id": "dEGp_cuFJoX9"
      },
      "source": [
        "np.testing.assert_array_equal(expected_value([1]), expected_value_np(np.array([1])))\n",
        "np.testing.assert_array_equal(expected_value([3, 4]), expected_value_np(np.array([3, 4])))\n",
        "np.testing.assert_array_equal(expected_value([-1, 0, 1]), expected_value_np(np.array([-1, 0, 1])))\n",
        "np.testing.assert_array_equal(expected_value([-99, -98]), expected_value_np(np.array([-99, -98])))\n",
        "\n",
        "np.testing.assert_array_equal(dispersion([1]), dispersion_np(np.array([1])))\n",
        "np.testing.assert_array_equal(dispersion([3, 4]), dispersion_np(np.array([3, 4])))\n",
        "np.testing.assert_array_equal(dispersion([-1, 0, 1]), dispersion_np(np.array([-1, 0, 1])))\n",
        "np.testing.assert_array_equal(dispersion([-99, -98]), dispersion_np(np.array([-99, -98])))"
      ],
      "id": "dEGp_cuFJoX9",
      "execution_count": null,
      "outputs": []
    },
    {
      "cell_type": "markdown",
      "metadata": {
        "id": "BO9aCDmYBf1R"
      },
      "source": [
        "Задание 18.\n",
        "\n",
        "Даны два вектора $y_1$ и $y_2$, нужно посчитать среднее арифметическое квадратов разностей их значений"
      ],
      "id": "BO9aCDmYBf1R"
    },
    {
      "cell_type": "code",
      "metadata": {
        "id": "5ZgYjfj5KW4g"
      },
      "source": [
        "def mean_square_difference(y1, y2):\n",
        "    assert len(y1) == len(y2) and len(y1) > 0\n",
        "    # Здесь и далее эти проверки !не нужно! дублировать в свои функции; Здесь они для того, чтобы лишний раз подчеркнуть валидность входных данных\n",
        "    s = 0\n",
        "    for i in range(len(y1)):\n",
        "        s += (y1[i] - y2[i]) ** 2\n",
        "    return s / len(y1)"
      ],
      "id": "5ZgYjfj5KW4g",
      "execution_count": null,
      "outputs": []
    },
    {
      "cell_type": "code",
      "metadata": {
        "id": "r3kxTnLlw7dA"
      },
      "source": [
        "def mean_square_difference_np(y1, y2):\n",
        "    return sum((y1-y2)**2)/y1.shape[0]"
      ],
      "id": "r3kxTnLlw7dA",
      "execution_count": null,
      "outputs": []
    },
    {
      "cell_type": "code",
      "metadata": {
        "id": "CVuNT_iRKrFM"
      },
      "source": [
        "assert mean_square_difference([1], [1]) == mean_square_difference_np(np.array([1]), np.array([1]))\n",
        "assert mean_square_difference([1, 2], [1, 2]) == mean_square_difference_np(np.array([1, 2]), np.array([1, 2]))\n",
        "assert mean_square_difference([-1, 1], [0, 0]) == mean_square_difference_np(np.array([-1, 1]), np.array([0, 0]))\n",
        "assert mean_square_difference([-3, -2, 0, 1, 4], [-2, -2, -1, -1, 5]) == mean_square_difference_np(np.array([-3, -2, 0, 1, 4]), np.array([-2, -2, -1, -1, 5]))"
      ],
      "id": "CVuNT_iRKrFM",
      "execution_count": null,
      "outputs": []
    },
    {
      "cell_type": "markdown",
      "metadata": {
        "id": "FlYEqBJuBeX_"
      },
      "source": [
        "Задание 19.\n",
        "\n",
        "Даны два вектора $y_1$ и $y_2$, нужно посчитать среднее арифметическое модулей разностей их значений"
      ],
      "id": "FlYEqBJuBeX_"
    },
    {
      "cell_type": "code",
      "metadata": {
        "id": "YYFm_USNLR0g"
      },
      "source": [
        "def mean_abs_difference(y1, y2):\n",
        "    assert len(y1) == len(y2) and len(y1) > 0\n",
        "    s = 0\n",
        "    for i in range(len(y1)):\n",
        "        s += abs(y1[i] - y2[i])\n",
        "    return s / len(y1)"
      ],
      "id": "YYFm_USNLR0g",
      "execution_count": null,
      "outputs": []
    },
    {
      "cell_type": "code",
      "metadata": {
        "id": "YND9wAXGLSrU"
      },
      "source": [
        "def mean_abs_difference_np(y1, y2):\n",
        "    return sum(np.absolute(y1-y2))/y1.shape[0]"
      ],
      "id": "YND9wAXGLSrU",
      "execution_count": null,
      "outputs": []
    },
    {
      "cell_type": "code",
      "metadata": {
        "id": "a6AVnlOp-N_E"
      },
      "source": [
        "assert mean_abs_difference([1], [1]) == mean_abs_difference_np(np.array([1]), np.array([1]))\n",
        "assert mean_abs_difference([1, 2], [1, 2]) == mean_abs_difference_np(np.array([1, 2]), np.array([1, 2]))\n",
        "assert mean_abs_difference([-1, 1], [0, 0]) == mean_abs_difference_np(np.array([-1, 1]), np.array([0, 0]))\n",
        "assert mean_abs_difference([-3, -2, 0, 1, 4], [-2, -2, -1, -1, 5]) == mean_abs_difference_np(np.array([-3, -2, 0, 1, 4]), np.array([-2, -2, -1, -1, 5]))"
      ],
      "id": "a6AVnlOp-N_E",
      "execution_count": null,
      "outputs": []
    },
    {
      "cell_type": "markdown",
      "metadata": {
        "id": "MCJcY2TDBVX2"
      },
      "source": [
        "Задание 20.\n",
        "\n",
        "Даны два вектора $y_1$ и $y_2$, в которых присутствуют только $0$ и $1$. Необходимо посчитать вероятность совпадения - в скольких точках значения двух векторов совпадают"
      ],
      "id": "MCJcY2TDBVX2"
    },
    {
      "cell_type": "code",
      "metadata": {
        "id": "MFRHNu3RLdAM"
      },
      "source": [
        "def matching_proba(y1, y2):\n",
        "    assert len(y1) == len(y2) and len(y1) > 0\n",
        "    assert len(set(y1)) <= 2\n",
        "    assert len(set(y2)) <= 2\n",
        "    assert 0 in set(y1) or 1 in set(y1) or (0 in set(y1) and 1 in set(y1))\n",
        "    assert 0 in set(y2) or 1 in set(y2) or (0 in set(y2) and 1 in set(y2))\n",
        "\n",
        "    return sum([y1[i] == y2[i] for i in range(len(y1))]) / len(y1)"
      ],
      "id": "MFRHNu3RLdAM",
      "execution_count": null,
      "outputs": []
    },
    {
      "cell_type": "code",
      "metadata": {
        "id": "C48P4bQBMnZQ"
      },
      "source": [
        "def matching_proba_np(y1, y2):\n",
        "    return sum(y1 == y2)/y1.shape[0]"
      ],
      "id": "C48P4bQBMnZQ",
      "execution_count": null,
      "outputs": []
    },
    {
      "cell_type": "code",
      "metadata": {
        "id": "-DDiBxPEMZwu"
      },
      "source": [
        "np.testing.assert_array_equal(matching_proba([0, 1], [1, 0]), matching_proba_np(np.array([0, 1]), np.array([1, 0])))\n",
        "np.testing.assert_array_equal(matching_proba([0, 1, 0, 1], [0, 0, 1, 1]), matching_proba_np(np.array([0, 1, 0, 1]), np.array([0, 0, 1, 1])))\n",
        "np.testing.assert_array_equal(matching_proba([0, 0, 1, 1], [0, 0, 1, 1]), matching_proba_np(np.array([0, 0, 1, 1]), np.array([0, 0, 1, 1])))"
      ],
      "id": "-DDiBxPEMZwu",
      "execution_count": null,
      "outputs": []
    },
    {
      "cell_type": "markdown",
      "metadata": {
        "id": "F_a98XRF_WnS"
      },
      "source": [
        "Задание 21.\n",
        "\n",
        "Даны два вектора: $y_1$, $y_2$. В $y_1$ и $y_2$ присутствуют только $0$ и $1$.\n",
        "\n",
        "* Необходимо найти границы (индексы), такие, что если мы разделим какой-то из них оба вектора, то в левой части пересекающихся в $y_1$ и $y_2$ нулей будет больше, чем единиц, а в правой - наоборот. Если какая-то из частей не содержит элементов вовсе, то будем считать, что она подходит под условие."
      ],
      "id": "F_a98XRF_WnS"
    },
    {
      "cell_type": "code",
      "metadata": {
        "id": "b6FUo3G_NDge"
      },
      "source": [
        "def find_thresholds(y1, y2, debug=False):\n",
        "    assert len(y1) == len(y2) and len(y1) > 0\n",
        "    n = len(y1)\n",
        "    matching_zeros = [1 if y1[i] == y2[i] == 0 else 0 for i in range(n)]\n",
        "    matching_ones = [1 if y1[i] == y2[i] == 1 else 0 for i in range(n)]\n",
        "    res = []\n",
        "    if sum(matching_ones) / n > 0.5:\n",
        "        res.append(0)\n",
        "    for i in range(1, n):\n",
        "        if debug: # если вам непонятна логика работы этой функции, передайте третьим аргументом True\n",
        "            print(matching_zeros[:i], matching_ones[i:], i)\n",
        "        if sum(matching_zeros[:i]) / i > 0.5 and sum(matching_ones[i:]) / (n - i) > 0.5:\n",
        "            res.append(i)\n",
        "    if sum(matching_zeros) / n > 0.5:\n",
        "        res.append(n)\n",
        "    return res"
      ],
      "id": "b6FUo3G_NDge",
      "execution_count": null,
      "outputs": []
    },
    {
      "cell_type": "code",
      "metadata": {
        "id": "aD34QrPrReVK"
      },
      "source": [
        "def find_thresholds_np(y1, y2, debug=True):\n",
        "    n = y1.shape[0]\n",
        "    matching_zeros = ((y1 == y2)&(y1 == 0)).astype(int)\n",
        "    matching_ones = ((y1 == y2)&(y1 == 1)).astype(int)\n",
        "    res = []\n",
        "    if sum(matching_ones) > sum(matching_zeros):\n",
        "        res.append(0)\n",
        "    for i in range(1, n):\n",
        "        if debug: # если вам непонятна логика работы этой функции, передайте третьим аргументом True\n",
        "            print(matching_zeros[:i], matching_ones[i:], i)\n",
        "        if sum(matching_zeros[:i]) / i > 0.5 and sum(matching_ones[i:]) / (n - i) > 0.5:\n",
        "            res.append(i)\n",
        "    if sum(matching_zeros) / n > 0.5:\n",
        "        res.append(n)\n",
        "    return res"
      ],
      "id": "aD34QrPrReVK",
      "execution_count": null,
      "outputs": []
    },
    {
      "cell_type": "code",
      "metadata": {
        "id": "oSSMaAp3PT-R",
        "colab": {
          "base_uri": "https://localhost:8080/"
        },
        "outputId": "dd5601f3-9878-4c15-88c2-9a0d1eac9614"
      },
      "source": [
        "np.testing.assert_array_equal(find_thresholds([0], [0]), find_thresholds_np(np.array([0]), np.array([0])))\n",
        "np.testing.assert_array_equal(find_thresholds([1], [1]), find_thresholds_np(np.array([1]), np.array([1])))\n",
        "np.testing.assert_array_equal(\n",
        "    find_thresholds([0, 0, 1, 1], [0, 0, 1, 1]), \n",
        "    find_thresholds_np(np.array([0, 0, 1, 1]), np.array([0, 0, 1, 1]))\n",
        ")\n",
        "np.testing.assert_array_equal(\n",
        "    find_thresholds([0, 0, 1, 0, 0, 1, 1, 1], [0, 0, 0, 0, 0, 1, 1, 1]),\n",
        "    find_thresholds_np(np.array([0, 0, 1, 0, 0, 1, 1, 1]), np.array([0, 0, 0, 0, 0, 1, 1, 1]))\n",
        ")"
      ],
      "id": "oSSMaAp3PT-R",
      "execution_count": null,
      "outputs": [
        {
          "output_type": "stream",
          "name": "stdout",
          "text": [
            "[1] [0 1 1] 1\n",
            "[1 1] [1 1] 2\n",
            "[1 1 0] [1] 3\n",
            "[1] [0 0 0 0 1 1 1] 1\n",
            "[1 1] [0 0 0 1 1 1] 2\n",
            "[1 1 0] [0 0 1 1 1] 3\n",
            "[1 1 0 1] [0 1 1 1] 4\n",
            "[1 1 0 1 1] [1 1 1] 5\n",
            "[1 1 0 1 1 0] [1 1] 6\n",
            "[1 1 0 1 1 0 0] [1] 7\n"
          ]
        }
      ]
    },
    {
      "cell_type": "markdown",
      "metadata": {
        "id": "QzL-JrqmxD8s"
      },
      "source": [
        "### Разные действия с матрицами (3 балла)"
      ],
      "id": "QzL-JrqmxD8s"
    },
    {
      "cell_type": "markdown",
      "metadata": {
        "id": "8cRkht0DTyJm"
      },
      "source": [
        "Задание 22.\n",
        "\n",
        "Дана матрица размера $(32, 3, 16, 16)$, заполненная случайными числами от 0 до 9. При помощи **ровно пяти** преобразований приведите её к виду $(32, 1)$. При выполнении задания **можно** создавать вспомогательные матрицы!"
      ],
      "id": "8cRkht0DTyJm"
    },
    {
      "cell_type": "code",
      "metadata": {
        "id": "XiBftUkYUJHx"
      },
      "source": [
        "data = np.random.randint(0, 10, size=(32, 3, 16, 16))\n",
        "\n",
        "# (∩｀-´)⊃━☆ﾟ.*･｡ﾟ\n",
        "\n",
        "d = np.concatenate((np.concatenate((data[0], data[1])), np.concatenate((data[2], data[3]))))\n",
        "d1 = np.concatenate((np.concatenate((d[0], d[1])), d[3]))\n",
        "c = np.concatenate((d1[0], d1[1]))\n",
        "data = c.reshape(32, 1)\n",
        "\n",
        "\n",
        "assert data.shape == (32, 1)"
      ],
      "id": "XiBftUkYUJHx",
      "execution_count": null,
      "outputs": []
    },
    {
      "cell_type": "markdown",
      "metadata": {
        "id": "BlZrnx1TU3Oe"
      },
      "source": [
        "Задание 23.\n",
        "\n",
        "Даны две матрицы $m_1$ размером $(32, 256)$ и $m_2$ размером $(32, 512)$, а также две вспомогательные матрицы $W_1$ размером $(256, 32)$ и $W_2$ размером $(512, 16)$. Используя все данные матрицы, сделайте так, чтобы на выходе получилась **ровно одна** матрица размером $(32, 32)$"
      ],
      "id": "BlZrnx1TU3Oe"
    },
    {
      "cell_type": "code",
      "metadata": {
        "id": "XiQOLjOgxENb",
        "colab": {
          "base_uri": "https://localhost:8080/",
          "height": 333
        },
        "outputId": "8f14c4af-59a9-4ed5-df56-f9716fa62d25"
      },
      "source": [
        "m1 = np.random.randint(0, 10, size=(32, 256)) #8192\n",
        "m2 = np.random.randint(0, 10, size=(32, 512)) #16384\n",
        "W1 = np.random.randint(0, 10, size=(256, 32)) #8192\n",
        "W2 = np.random.randint(0, 10, size=(512, 16))  #8192\n",
        "\n",
        "# (∩｀-´)⊃━☆ﾟ.*･｡ﾟ !!!magic!!!\n",
        "m1_NEW = np.stack((m1[0], m1[1]))         #(2, 256)\n",
        "\n",
        "m2_NEW = np.stack((m2[0], m2[1]))         #(2, 512)\n",
        "\n",
        "W1_NEW = np.stack((W1[0], W1[1]))         #(2, 32)\n",
        "\n",
        "W2_NEW = np.stack((W2[0], W2[1]))         #(2, 16)\n",
        "\n",
        "\n",
        "m1_m2 = np.concatenate((m1 , m2), axis=-1)\n",
        "print(m1_m2.shape, \"m1_m2\")\n",
        "m1_m2_NEW = np.hstack((m1_m2[1], m1_m2[0])) \n",
        "print(m1_m2_NEW.shape)\n",
        "\n",
        "\n",
        "\n",
        "m1_NEW = m1_NEW.reshape(16, 32)\n",
        "W2_NEW = W2_NEW.reshape(16, 2)\n",
        "m1_W2 = np.concatenate((m1_NEW , W2_NEW), axis=-1)     #(16, 34)\n",
        "print(m1_W2.shape, \"m1_W2\")\n",
        "\n",
        "m1_W2_NEW = np.stack((m1_W2[1], m1_W2[0])) \n",
        "print(m1_W2_NEW.shape)\n",
        "\n",
        "m2_NEW = m2_NEW.reshape(32, 32)\n",
        "W1_NEW = W1_NEW.reshape(32, 2)\n",
        "m2_W1 = np.concatenate((m2_NEW , W1_NEW), axis=-1)    #(32, 34)\n",
        "print(m2_W1.shape, \"m2_W1\")\n",
        "\n",
        "m2_W1_NEW = np.stack((m2_W1[0], m2_W1[1])) \n",
        "print(m2_W1_NEW.shape)\n",
        "\n",
        "\n",
        "\n",
        "W22_NEW = np.concatenate((result[0], result[1]), axis=-1) \n",
        "print(W22_NEW.shape)\n",
        "\n",
        "\n",
        "assert result.shape == (32, 32)"
      ],
      "id": "XiQOLjOgxENb",
      "execution_count": null,
      "outputs": [
        {
          "output_type": "stream",
          "name": "stdout",
          "text": [
            "(32, 768) m1_m2\n",
            "(1536,)\n",
            "(16, 34) m1_W2\n",
            "(2, 34)\n",
            "(32, 34) m2_W1\n",
            "(2, 34)\n"
          ]
        },
        {
          "output_type": "error",
          "ename": "NameError",
          "evalue": "ignored",
          "traceback": [
            "\u001b[0;31m---------------------------------------------------------------------------\u001b[0m",
            "\u001b[0;31mNameError\u001b[0m                                 Traceback (most recent call last)",
            "\u001b[0;32m<ipython-input-3-d3d090684544>\u001b[0m in \u001b[0;36m<module>\u001b[0;34m()\u001b[0m\n\u001b[1;32m     39\u001b[0m \u001b[0;34m\u001b[0m\u001b[0m\n\u001b[1;32m     40\u001b[0m \u001b[0;34m\u001b[0m\u001b[0m\n\u001b[0;32m---> 41\u001b[0;31m \u001b[0mW22_NEW\u001b[0m \u001b[0;34m=\u001b[0m \u001b[0mnp\u001b[0m\u001b[0;34m.\u001b[0m\u001b[0mconcatenate\u001b[0m\u001b[0;34m(\u001b[0m\u001b[0;34m(\u001b[0m\u001b[0mresult\u001b[0m\u001b[0;34m[\u001b[0m\u001b[0;36m0\u001b[0m\u001b[0;34m]\u001b[0m\u001b[0;34m,\u001b[0m \u001b[0mresult\u001b[0m\u001b[0;34m[\u001b[0m\u001b[0;36m1\u001b[0m\u001b[0;34m]\u001b[0m\u001b[0;34m)\u001b[0m\u001b[0;34m,\u001b[0m \u001b[0maxis\u001b[0m\u001b[0;34m=\u001b[0m\u001b[0;34m-\u001b[0m\u001b[0;36m1\u001b[0m\u001b[0;34m)\u001b[0m\u001b[0;34m\u001b[0m\u001b[0;34m\u001b[0m\u001b[0m\n\u001b[0m\u001b[1;32m     42\u001b[0m \u001b[0mprint\u001b[0m\u001b[0;34m(\u001b[0m\u001b[0mW22_NEW\u001b[0m\u001b[0;34m.\u001b[0m\u001b[0mshape\u001b[0m\u001b[0;34m)\u001b[0m\u001b[0;34m\u001b[0m\u001b[0;34m\u001b[0m\u001b[0m\n\u001b[1;32m     43\u001b[0m \u001b[0;34m\u001b[0m\u001b[0m\n",
            "\u001b[0;31mNameError\u001b[0m: name 'result' is not defined"
          ]
        }
      ]
    },
    {
      "cell_type": "markdown",
      "metadata": {
        "id": "dGTtWMlOWSyr"
      },
      "source": [
        "Задание 24.\n",
        "\n",
        "Последнее испытание для юного мага матриц - приведите полученную на последнем шаге матрицу к виду $(32, 3)$ и сделайте так, чтобы все значения в этой матрице были в промежутке от $0$ до $1$"
      ],
      "id": "dGTtWMlOWSyr"
    },
    {
      "cell_type": "code",
      "metadata": {
        "id": "JM1Ngv6oWSZE"
      },
      "source": [
        "# Вжух! (∩｀-´)⊃━☆ﾟ.*･｡ﾟ\n",
        "result = # Ваш код\n",
        "\n",
        "assert ((result => 0) & (result <= 1)).all()"
      ],
      "id": "JM1Ngv6oWSZE",
      "execution_count": null,
      "outputs": []
    }
  ]
}
