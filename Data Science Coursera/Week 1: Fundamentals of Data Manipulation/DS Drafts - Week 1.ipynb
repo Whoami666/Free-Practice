{
  "nbformat": 4,
  "nbformat_minor": 0,
  "metadata": {
    "colab": {
      "name": "DS Drafts Week 1.ipynb",
      "provenance": [],
      "collapsed_sections": []
    },
    "kernelspec": {
      "name": "python3",
      "display_name": "Python 3"
    },
    "language_info": {
      "name": "python"
    }
  },
  "cells": [
    {
      "cell_type": "code",
      "execution_count": 3,
      "metadata": {
        "colab": {
          "base_uri": "https://localhost:8080/"
        },
        "id": "DTM6ClEctQly",
        "outputId": "2c7662e3-7aea-485f-c5f7-bd8d95b09411"
      },
      "outputs": [
        {
          "output_type": "stream",
          "name": "stdout",
          "text": [
            "5 ['A', 'AA', 'AA', 'AA', 'A']\n"
          ]
        }
      ],
      "source": [
        "import re\n",
        "s = 'ACAABAACAAAB'\n",
        "result = re.findall('A{1,2}', s)\n",
        "L = len(result)\n",
        "print(L, result)"
      ]
    },
    {
      "cell_type": "code",
      "source": [
        "import re \n",
        "s = 'ACBCAC'\n",
        "\n",
        "re.findall('AC', s)"
      ],
      "metadata": {
        "colab": {
          "base_uri": "https://localhost:8080/"
        },
        "id": "u_e4VTZFtTXq",
        "outputId": "720b0091-ffc6-46ac-d8f7-4efb3acdf6ba"
      },
      "execution_count": 2,
      "outputs": [
        {
          "output_type": "execute_result",
          "data": {
            "text/plain": [
              "['AC', 'AC']"
            ]
          },
          "metadata": {},
          "execution_count": 2
        }
      ]
    },
    {
      "cell_type": "code",
      "source": [
        "import numpy as np\n",
        "\n",
        "old = np.array([[1, 1, 1], [1, 1, 1]])\n",
        "new = old\n",
        "new[0, :2] = 0\n",
        "\n",
        "print(old)"
      ],
      "metadata": {
        "colab": {
          "base_uri": "https://localhost:8080/"
        },
        "id": "RgglRjbqtd1B",
        "outputId": "b430f04c-a8ab-44c9-8bd3-aa3ca1b502f2"
      },
      "execution_count": 4,
      "outputs": [
        {
          "output_type": "stream",
          "name": "stdout",
          "text": [
            "[[0 0 1]\n",
            " [1 1 1]]\n"
          ]
        }
      ]
    },
    {
      "cell_type": "code",
      "source": [
        "a1 = np.random.rand(4)\n",
        "a2 = np.random.rand(4, 1)\n",
        "a3 = np.array([[1, 2, 3, 4]])\n",
        "a4 = np.arange(1, 4, 1)\n",
        "a5 = np.linspace(1 ,4, 4)\n",
        "\n",
        "\n",
        "a5.shape == a1.shape"
      ],
      "metadata": {
        "colab": {
          "base_uri": "https://localhost:8080/"
        },
        "id": "a2NueAqutloS",
        "outputId": "daca59b0-9271-4d0c-d5f0-55c611d0911e"
      },
      "execution_count": 9,
      "outputs": [
        {
          "output_type": "execute_result",
          "data": {
            "text/plain": [
              "True"
            ]
          },
          "metadata": {},
          "execution_count": 9
        }
      ]
    },
    {
      "cell_type": "code",
      "source": [
        "import re\n",
        "string = 'bat, lat, mat, bet, let, met, bit, lit, mit, bot, lot, mot'\n",
        "result = re.findall('b[ao]t', string)\n",
        "print(result)"
      ],
      "metadata": {
        "colab": {
          "base_uri": "https://localhost:8080/"
        },
        "id": "pM5v3glWtojs",
        "outputId": "e2a238ba-e017-45a0-9769-78a27b2815dd"
      },
      "execution_count": 10,
      "outputs": [
        {
          "output_type": "stream",
          "name": "stdout",
          "text": [
            "['bat', 'bot']\n"
          ]
        }
      ]
    },
    {
      "cell_type": "code",
      "source": [
        "s = \"Office of Research Administration: (734) 647-6333 | 4325 North Quad Office of Budget and Financial Administration: (734) 647-8044 | 309 Maynard, Suite 205 Health Informatics Program: (734) 763-2285 | 333 Maynard, Suite 500  Office of the Dean: (734) 647-3576 | 4322 North Quad UMSI Engagement Center: (734) 763-1251 | 777 North University Faculty Adminstrative Support Staff: (734) 764-9376 | 4322 North Quad\"\n",
        "print()\n",
        "\n",
        "re.findall('[(]\\d{3}[)]\\s\\d{3}[-]\\d{4}', s)"
      ],
      "metadata": {
        "colab": {
          "base_uri": "https://localhost:8080/"
        },
        "id": "rRkRR3S2ty5u",
        "outputId": "e874a0d9-c5c4-43ee-eb40-a9f8ff286dce"
      },
      "execution_count": 13,
      "outputs": [
        {
          "output_type": "stream",
          "name": "stdout",
          "text": [
            "\n"
          ]
        },
        {
          "output_type": "execute_result",
          "data": {
            "text/plain": [
              "['(734) 647-6333',\n",
              " '(734) 647-8044',\n",
              " '(734) 763-2285',\n",
              " '(734) 647-3576',\n",
              " '(734) 763-1251',\n",
              " '(734) 764-9376']"
            ]
          },
          "metadata": {},
          "execution_count": 13
        }
      ]
    },
    {
      "cell_type": "code",
      "source": [
        "text=r'''Everyone has the following fundamental freedoms:\n",
        "    (a) freedom of conscience and religion;\n",
        "    (b) freedom of thought, belief, opinion and expression, including freedom of the press and other media of communication;\n",
        "    (c) freedom of peaceful assembly; and\n",
        "    (d) freedom of association.'''\n",
        "\n",
        "import re\n",
        "pattern = '\\(.\\) '\n",
        "print(len(re.findall(pattern,text)))"
      ],
      "metadata": {
        "colab": {
          "base_uri": "https://localhost:8080/"
        },
        "id": "R2kLpy-muPA1",
        "outputId": "a01ad994-9a18-415e-9b44-9404113e7ecb"
      },
      "execution_count": 26,
      "outputs": [
        {
          "output_type": "stream",
          "name": "stdout",
          "text": [
            "4\n"
          ]
        }
      ]
    },
    {
      "cell_type": "code",
      "source": [
        "link = 'I refer to https://google.com and I never refer http://www.baidu.com if I have to search anything'\n",
        "re.findall('(?<=[https]:\\/\\/)([A-Za-z0-9.]*)', link)"
      ],
      "metadata": {
        "colab": {
          "base_uri": "https://localhost:8080/"
        },
        "id": "00GA6Wxjui4r",
        "outputId": "1e8bc8f4-2569-4ba5-9839-f9725f19a273"
      },
      "execution_count": 19,
      "outputs": [
        {
          "output_type": "execute_result",
          "data": {
            "text/plain": [
              "['google.com', 'www.baidu.com']"
            ]
          },
          "metadata": {},
          "execution_count": 19
        }
      ]
    },
    {
      "cell_type": "code",
      "source": [
        "s = 'ACBCAC'\n",
        "\n",
        "\n",
        "re.findall('^AC', s)\n"
      ],
      "metadata": {
        "colab": {
          "base_uri": "https://localhost:8080/"
        },
        "id": "QSruQwEJutFl",
        "outputId": "a583af1f-c18c-4ae4-d69f-a89720d71a5a"
      },
      "execution_count": 24,
      "outputs": [
        {
          "output_type": "execute_result",
          "data": {
            "text/plain": [
              "['AC']"
            ]
          },
          "metadata": {},
          "execution_count": 24
        }
      ]
    },
    {
      "cell_type": "code",
      "source": [
        "n = ['ashbdsfsdjds', 'ashbdsfsdjds']\n",
        "list(map(lambda x: x[:-3], n))"
      ],
      "metadata": {
        "colab": {
          "base_uri": "https://localhost:8080/"
        },
        "id": "mas99eilvXsM",
        "outputId": "0dd56636-7e18-43c1-b7a8-6394b4cebedd"
      },
      "execution_count": 32,
      "outputs": [
        {
          "output_type": "execute_result",
          "data": {
            "text/plain": [
              "['ashbdsfsd', 'ashbdsfsd']"
            ]
          },
          "metadata": {},
          "execution_count": 32
        }
      ]
    },
    {
      "cell_type": "code",
      "source": [
        "logdata = \"146.204.224.152 - feest6811 [21/Jun/2019:15:45:24 -0700] - - \\\"POST /incentivize HTTP/1.1\\\" 302 4622 197.109.77.178 - kertzmann3129 [21/Jun/2019:15:45:25 -0700] DELETE /virtual/solutions/target/web+services HTTP/2.0 203 26554 156.127.178.177 - okuneva5222 [21/Jun/2019:15:45:27 -0700] DELETE /interactive/transparent/niches/revolutionize HTTP/1.1 416 14701\"\n",
        "hosts = re.findall('\\d{1,3}\\.\\d{1,3}\\.\\d{1,3}\\.\\d{1,3}', logdata)\n",
        "\n",
        "user_names = re.findall('-\\s[A-Za-z0-9\\-]*\\s\\[', logdata)\n",
        "clean_user_names = list(map(lambda x: x[2:-2], user_names))\n",
        "\n",
        "post_req = re.findall('\\\".*\\\"', logdata)\n",
        "clean_req = list(map(lambda x: x[1:-1], post_req))\n",
        "\n",
        "time = re.findall('\\[[A-Za-z0-9|/\\:\\-]*\\s\\-\\d*\\]', logdata) #21/Jun/2019:15:46:00 -0700]\n",
        "time = list(map(lambda x: x.strip(\"[, ]\"), time))\n",
        "\n",
        "dic = []\n",
        "for i in range(len(hosts)):\n",
        "  dic.append({'host':hosts[i], 'user_name':clean_user_names[i], 'time':time, 'request':clean_req}) #, 'time', 'request'\n",
        "print(dic)"
      ],
      "metadata": {
        "colab": {
          "base_uri": "https://localhost:8080/"
        },
        "id": "hKzVNXpZy98n",
        "outputId": "13c7ce43-9cf1-4259-d93e-48974f2f3f74"
      },
      "execution_count": 132,
      "outputs": [
        {
          "output_type": "stream",
          "name": "stdout",
          "text": [
            "[{'host': '146.204.224.152', 'user_name': 'feest6811', 'time': ['21/Jun/2019:15:45:24 -0700', '21/Jun/2019:15:45:25 -0700', '21/Jun/2019:15:45:27 -0700'], 'request': ['POST /incentivize HTTP/1.1']}, {'host': '197.109.77.178', 'user_name': 'kertzmann3129', 'time': ['21/Jun/2019:15:45:24 -0700', '21/Jun/2019:15:45:25 -0700', '21/Jun/2019:15:45:27 -0700'], 'request': ['POST /incentivize HTTP/1.1']}, {'host': '156.127.178.177', 'user_name': 'okuneva5222', 'time': ['21/Jun/2019:15:45:24 -0700', '21/Jun/2019:15:45:25 -0700', '21/Jun/2019:15:45:27 -0700'], 'request': ['POST /incentivize HTTP/1.1']}]\n"
          ]
        }
      ]
    },
    {
      "cell_type": "code",
      "source": [
        ""
      ],
      "metadata": {
        "id": "v0X7Uwl_PKa4"
      },
      "execution_count": null,
      "outputs": []
    },
    {
      "cell_type": "code",
      "source": [
        "search = re.search('(\\d{1,3}\\.){3}\\d{1,3}', logdata)\n",
        "findall = re.findall('(\\d{1,3}\\.){3}\\d{1,3}', logdata)\n",
        "search, findall"
      ],
      "metadata": {
        "colab": {
          "base_uri": "https://localhost:8080/"
        },
        "id": "wf5phvoKC--S",
        "outputId": "6a306e41-5972-48ca-d9c9-4c2afb0896ed"
      },
      "execution_count": 110,
      "outputs": [
        {
          "output_type": "execute_result",
          "data": {
            "text/plain": [
              "(<re.Match object; span=(0, 15), match='146.204.224.152'>,\n",
              " ['224.', '77.', '178.'])"
            ]
          },
          "metadata": {},
          "execution_count": 110
        }
      ]
    },
    {
      "cell_type": "code",
      "source": [
        "mapped_numbers = list(map(lambda x: x * 2 + 3, numbers))"
      ],
      "metadata": {
        "id": "EQqMA38dxowl"
      },
      "execution_count": null,
      "outputs": []
    },
    {
      "cell_type": "code",
      "source": [
        ""
      ],
      "metadata": {
        "id": "3y7docvKC-aN"
      },
      "execution_count": null,
      "outputs": []
    }
  ]
}
